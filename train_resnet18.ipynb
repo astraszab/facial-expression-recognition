{
  "nbformat": 4,
  "nbformat_minor": 0,
  "metadata": {
    "kernelspec": {
      "name": "python3",
      "display_name": "Python 3"
    },
    "language_info": {
      "codemirror_mode": {
        "name": "ipython",
        "version": 3
      },
      "file_extension": ".py",
      "mimetype": "text/x-python",
      "name": "python",
      "nbconvert_exporter": "python",
      "pygments_lexer": "ipython3",
      "version": "3.8.1"
    },
    "colab": {
      "name": "train.ipynb",
      "provenance": [],
      "collapsed_sections": []
    },
    "accelerator": "GPU"
  },
  "cells": [
    {
      "cell_type": "code",
      "metadata": {
        "id": "ri-ZOOgSrgER",
        "colab_type": "code",
        "colab": {}
      },
      "source": [
        "import torch\n",
        "import torchvision\n",
        "import torchvision.transforms as transforms\n",
        "import torch.nn as nn\n",
        "import torch.nn.functional as F\n",
        "import torch.optim as optim\n",
        "import matplotlib.pyplot as plt\n",
        "\n",
        "from constants import CLASSES\n",
        "from pathlib import Path\n",
        "from utils import train_net"
      ],
      "execution_count": 0,
      "outputs": []
    },
    {
      "cell_type": "code",
      "metadata": {
        "id": "oF4VoWEjrgEd",
        "colab_type": "code",
        "outputId": "f59040e9-121e-4d0c-a386-e01ca6686fb8",
        "colab": {
          "base_uri": "https://localhost:8080/",
          "height": 320
        }
      },
      "source": [
        "# for colab\n",
        "!wget -x --load-cookies cookies.txt \"https://www.kaggle.com/deadskull7/fer2013/download\" -O fer2013.zip\n",
        "!python unpack_data.py"
      ],
      "execution_count": 3,
      "outputs": [
        {
          "output_type": "stream",
          "text": [
            "--2020-04-12 12:16:32--  https://www.kaggle.com/deadskull7/fer2013/download\n",
            "Resolving www.kaggle.com (www.kaggle.com)... 35.244.233.98\n",
            "Connecting to www.kaggle.com (www.kaggle.com)|35.244.233.98|:443... connected.\n",
            "HTTP request sent, awaiting response... 302 Found\n",
            "Location: https://storage.googleapis.com/kaggle-data-sets/28577/36420/bundle/archive.zip?GoogleAccessId=web-data@kaggle-161607.iam.gserviceaccount.com&Expires=1586952992&Signature=TPXhRJZLvmyJ3xT%2FglmFmqWx%2Fd8ctPhqKXWKjfQYyMT0StTZx7ODQ%2FQYyR2L2URtV69O5XGob6bsSKNlpmUi3fqb3x4H3CCVgcXiPmikDJ6YTFR5F9wpp6%2FQsSfPC85GRUE8o835no0Yc6xcz1vfikW%2FoJkzPqV98YMqlIQ7VsBdA0nfhcpSRNcz3519%2BpkzLJitfPD6T%2F3ZngSjw91%2BvTwJjVpbQx5RXwzsytYV0sWE0Laz4a7%2BtcBllSrto7y0Jhysyd5Mn0Le3VMxhQg81WjnAemp6wPZXNzslGdbTAx4n1%2FlOI5HomPIj0LmNDDyIpEOAW70p1w8UxWHHoMplA%3D%3D&response-content-disposition=attachment%3B+filename%3Dfer2013.zip [following]\n",
            "--2020-04-12 12:16:33--  https://storage.googleapis.com/kaggle-data-sets/28577/36420/bundle/archive.zip?GoogleAccessId=web-data@kaggle-161607.iam.gserviceaccount.com&Expires=1586952992&Signature=TPXhRJZLvmyJ3xT%2FglmFmqWx%2Fd8ctPhqKXWKjfQYyMT0StTZx7ODQ%2FQYyR2L2URtV69O5XGob6bsSKNlpmUi3fqb3x4H3CCVgcXiPmikDJ6YTFR5F9wpp6%2FQsSfPC85GRUE8o835no0Yc6xcz1vfikW%2FoJkzPqV98YMqlIQ7VsBdA0nfhcpSRNcz3519%2BpkzLJitfPD6T%2F3ZngSjw91%2BvTwJjVpbQx5RXwzsytYV0sWE0Laz4a7%2BtcBllSrto7y0Jhysyd5Mn0Le3VMxhQg81WjnAemp6wPZXNzslGdbTAx4n1%2FlOI5HomPIj0LmNDDyIpEOAW70p1w8UxWHHoMplA%3D%3D&response-content-disposition=attachment%3B+filename%3Dfer2013.zip\n",
            "Resolving storage.googleapis.com (storage.googleapis.com)... 74.125.142.128, 2607:f8b0:400e:c07::80\n",
            "Connecting to storage.googleapis.com (storage.googleapis.com)|74.125.142.128|:443... connected.\n",
            "HTTP request sent, awaiting response... 200 OK\n",
            "Length: 101279992 (97M) [application/zip]\n",
            "Saving to: ‘fer2013.zip’\n",
            "\n",
            "fer2013.zip         100%[===================>]  96.59M  87.8MB/s    in 1.1s    \n",
            "\n",
            "2020-04-12 12:16:34 (87.8 MB/s) - ‘fer2013.zip’ saved [101279992/101279992]\n",
            "\n"
          ],
          "name": "stdout"
        }
      ]
    },
    {
      "cell_type": "code",
      "metadata": {
        "id": "7SvkauuMrgEq",
        "colab_type": "code",
        "outputId": "67f95ea4-97ac-4a06-f0d1-1762d1e5a0b6",
        "colab": {
          "base_uri": "https://localhost:8080/",
          "height": 35
        }
      },
      "source": [
        "device = torch.device(\"cuda:0\" if torch.cuda.is_available() else \"cpu\")\n",
        "device"
      ],
      "execution_count": 2,
      "outputs": [
        {
          "output_type": "execute_result",
          "data": {
            "text/plain": [
              "device(type='cuda', index=0)"
            ]
          },
          "metadata": {
            "tags": []
          },
          "execution_count": 2
        }
      ]
    },
    {
      "cell_type": "code",
      "metadata": {
        "id": "Hhud9JVcrgE0",
        "colab_type": "code",
        "colab": {}
      },
      "source": [
        "transform = transforms.Compose(\n",
        "    [transforms.Resize((224, 224)),\n",
        "     transforms.Grayscale(),\n",
        "     transforms.ToTensor(),\n",
        "     transforms.Normalize((0.5,), (0.5,))])\n",
        "\n",
        "transform_augment = transforms.Compose(\n",
        "    [\n",
        "     transforms.Resize((224, 224)),\n",
        "     transforms.Grayscale(),\n",
        "     transforms.RandomHorizontalFlip(),\n",
        "     transforms.ColorJitter(brightness=0.2),\n",
        "     transforms.RandomAffine(15, translate=(0.05, 0.05), scale=(0.9, 1.1)),\n",
        "     transforms.ToTensor(),\n",
        "     transforms.Normalize((0.5,), (0.5,)),\n",
        "    ]\n",
        ")"
      ],
      "execution_count": 0,
      "outputs": []
    },
    {
      "cell_type": "code",
      "metadata": {
        "id": "Jaq_5bzErgE7",
        "colab_type": "code",
        "colab": {}
      },
      "source": [
        "trainset = torchvision.datasets.ImageFolder(root='./data/train', transform=transform_augment)\n",
        "trainloader = torch.utils.data.DataLoader(trainset, batch_size=64,\n",
        "                                          shuffle=True, num_workers=2)"
      ],
      "execution_count": 0,
      "outputs": []
    },
    {
      "cell_type": "code",
      "metadata": {
        "id": "swTEblDBrgFC",
        "colab_type": "code",
        "colab": {}
      },
      "source": [
        "valset = torchvision.datasets.ImageFolder(root='./data/val', transform=transform)\n",
        "valloader = torch.utils.data.DataLoader(valset, batch_size=4,\n",
        "                                          shuffle=False, num_workers=2)"
      ],
      "execution_count": 0,
      "outputs": []
    },
    {
      "cell_type": "code",
      "metadata": {
        "id": "am5YXL2MrgFO",
        "colab_type": "code",
        "colab": {}
      },
      "source": [
        "net = torchvision.models.resnet18()\n",
        "net.conv1 = nn.Conv2d(1, 64, 7, 2, padding=3, padding_mode='zeros', bias=False)\n",
        "net.fc = nn.Linear(in_features=512, out_features=len(CLASSES), bias=True)"
      ],
      "execution_count": 0,
      "outputs": []
    },
    {
      "cell_type": "code",
      "metadata": {
        "id": "HlwKBvy8rgFS",
        "colab_type": "code",
        "colab": {}
      },
      "source": [
        "criterion = nn.CrossEntropyLoss()\n",
        "optimizer = optim.Adam(net.parameters(), lr=3e-4)\n",
        "scheduler = optim.lr_scheduler.ReduceLROnPlateau(optimizer, factor=0.5, patience=3, threshold=0.001)"
      ],
      "execution_count": 0,
      "outputs": []
    },
    {
      "cell_type": "code",
      "metadata": {
        "id": "yYwlasDYrgFY",
        "colab_type": "code",
        "outputId": "6e8db7ec-73aa-41df-f386-1086968657ac",
        "colab": {
          "base_uri": "https://localhost:8080/",
          "height": 814
        }
      },
      "source": [
        "train_net(net, trainloader, valloader, criterion, optimizer, device, \n",
        "          num_epochs=30, lr_scheduler=scheduler, eval_period=len(trainloader))"
      ],
      "execution_count": 8,
      "outputs": [
        {
          "output_type": "stream",
          "text": [
            "[1,   449] train_loss: 1.580, val_loss: 1.360, val_acc: 0.481\n",
            "[2,   449] train_loss: 1.268, val_loss: 1.356, val_acc: 0.481\n",
            "[3,   449] train_loss: 1.176, val_loss: 1.281, val_acc: 0.524\n",
            "[4,   449] train_loss: 1.111, val_loss: 1.161, val_acc: 0.544\n",
            "[5,   449] train_loss: 1.069, val_loss: 1.082, val_acc: 0.589\n",
            "[6,   449] train_loss: 1.036, val_loss: 1.080, val_acc: 0.591\n",
            "[7,   449] train_loss: 1.009, val_loss: 1.052, val_acc: 0.605\n",
            "[8,   449] train_loss: 0.978, val_loss: 1.049, val_acc: 0.598\n",
            "[9,   449] train_loss: 0.959, val_loss: 1.020, val_acc: 0.614\n",
            "[10,   449] train_loss: 0.935, val_loss: 0.996, val_acc: 0.624\n",
            "[11,   449] train_loss: 0.918, val_loss: 1.009, val_acc: 0.627\n",
            "[12,   449] train_loss: 0.897, val_loss: 1.013, val_acc: 0.625\n",
            "[13,   449] train_loss: 0.883, val_loss: 0.999, val_acc: 0.633\n",
            "[14,   449] train_loss: 0.867, val_loss: 0.974, val_acc: 0.648\n",
            "[15,   449] train_loss: 0.848, val_loss: 0.982, val_acc: 0.640\n",
            "[16,   449] train_loss: 0.824, val_loss: 0.938, val_acc: 0.652\n",
            "[17,   449] train_loss: 0.815, val_loss: 0.960, val_acc: 0.638\n",
            "[18,   449] train_loss: 0.800, val_loss: 1.034, val_acc: 0.630\n",
            "[19,   449] train_loss: 0.781, val_loss: 0.955, val_acc: 0.660\n",
            "[20,   449] train_loss: 0.769, val_loss: 0.973, val_acc: 0.649\n",
            "[21,   449] train_loss: 0.692, val_loss: 0.954, val_acc: 0.666\n",
            "[22,   449] train_loss: 0.668, val_loss: 0.939, val_acc: 0.671\n",
            "[23,   449] train_loss: 0.652, val_loss: 0.924, val_acc: 0.672\n",
            "[24,   449] train_loss: 0.634, val_loss: 0.970, val_acc: 0.673\n",
            "[25,   449] train_loss: 0.620, val_loss: 0.955, val_acc: 0.673\n",
            "[26,   449] train_loss: 0.604, val_loss: 0.960, val_acc: 0.666\n",
            "[27,   449] train_loss: 0.586, val_loss: 0.962, val_acc: 0.676\n",
            "[28,   449] train_loss: 0.531, val_loss: 0.937, val_acc: 0.689\n",
            "[29,   449] train_loss: 0.506, val_loss: 0.984, val_acc: 0.686\n",
            "[30,   449] train_loss: 0.493, val_loss: 0.964, val_acc: 0.683\n",
            "Finished training\n"
          ],
          "name": "stdout"
        },
        {
          "output_type": "display_data",
          "data": {
            "image/png": "[encoded data removed]",
            "text/plain": [
              "<Figure size 432x288 with 1 Axes>"
            ]
          },
          "metadata": {
            "tags": [],
            "needs_background": "light"
          }
        }
      ]
    },
    {
      "cell_type": "code",
      "metadata": {
        "id": "MRLdPNFXrgFe",
        "colab_type": "code",
        "colab": {}
      },
      "source": [
        "Path('weights').mkdir(exist_ok=True)\n",
        "PATH = 'weights/resnet18.pth'\n",
        "torch.save(net.state_dict(), PATH)"
      ],
      "execution_count": 0,
      "outputs": []
    },
    {
      "cell_type": "markdown",
      "metadata": {
        "id": "ILFPw1zArgFk",
        "colab_type": "text"
      },
      "source": [
        "### Evaluating"
      ]
    },
    {
      "cell_type": "code",
      "metadata": {
        "id": "4jk1d2uUrgFl",
        "colab_type": "code",
        "outputId": "b6331889-ef6f-406b-ca89-18888a3356d5",
        "colab": {
          "base_uri": "https://localhost:8080/",
          "height": 35
        }
      },
      "source": [
        "device = torch.device(\"cuda:0\" if torch.cuda.is_available() else \"cpu\")\n",
        "device"
      ],
      "execution_count": 10,
      "outputs": [
        {
          "output_type": "execute_result",
          "data": {
            "text/plain": [
              "device(type='cuda', index=0)"
            ]
          },
          "metadata": {
            "tags": []
          },
          "execution_count": 10
        }
      ]
    },
    {
      "cell_type": "code",
      "metadata": {
        "id": "guqbGj08VHVU",
        "colab_type": "code",
        "colab": {}
      },
      "source": [
        "net = torchvision.models.resnet18()\n",
        "net.conv1 = nn.Conv2d(1, 64, 7, 2, padding=3, padding_mode='zeros', bias=False)\n",
        "net.fc = nn.Linear(in_features=512, out_features=len(CLASSES), bias=True)"
      ],
      "execution_count": 0,
      "outputs": []
    },
    {
      "cell_type": "code",
      "metadata": {
        "id": "XicoqsnCrgFq",
        "colab_type": "code",
        "outputId": "bdce6e57-c855-4e29-df3a-a4b6cceffb06",
        "colab": {
          "base_uri": "https://localhost:8080/",
          "height": 1000
        }
      },
      "source": [
        "net.load_state_dict(torch.load(PATH))\n",
        "net.to(device)\n",
        "net.eval()"
      ],
      "execution_count": 12,
      "outputs": [
        {
          "output_type": "execute_result",
          "data": {
            "text/plain": [
              "ResNet(\n",
              "  (conv1): Conv2d(1, 64, kernel_size=(7, 7), stride=(2, 2), padding=(3, 3), bias=False)\n",
              "  (bn1): BatchNorm2d(64, eps=1e-05, momentum=0.1, affine=True, track_running_stats=True)\n",
              "  (relu): ReLU(inplace=True)\n",
              "  (maxpool): MaxPool2d(kernel_size=3, stride=2, padding=1, dilation=1, ceil_mode=False)\n",
              "  (layer1): Sequential(\n",
              "    (0): BasicBlock(\n",
              "      (conv1): Conv2d(64, 64, kernel_size=(3, 3), stride=(1, 1), padding=(1, 1), bias=False)\n",
              "      (bn1): BatchNorm2d(64, eps=1e-05, momentum=0.1, affine=True, track_running_stats=True)\n",
              "      (relu): ReLU(inplace=True)\n",
              "      (conv2): Conv2d(64, 64, kernel_size=(3, 3), stride=(1, 1), padding=(1, 1), bias=False)\n",
              "      (bn2): BatchNorm2d(64, eps=1e-05, momentum=0.1, affine=True, track_running_stats=True)\n",
              "    )\n",
              "    (1): BasicBlock(\n",
              "      (conv1): Conv2d(64, 64, kernel_size=(3, 3), stride=(1, 1), padding=(1, 1), bias=False)\n",
              "      (bn1): BatchNorm2d(64, eps=1e-05, momentum=0.1, affine=True, track_running_stats=True)\n",
              "      (relu): ReLU(inplace=True)\n",
              "      (conv2): Conv2d(64, 64, kernel_size=(3, 3), stride=(1, 1), padding=(1, 1), bias=False)\n",
              "      (bn2): BatchNorm2d(64, eps=1e-05, momentum=0.1, affine=True, track_running_stats=True)\n",
              "    )\n",
              "  )\n",
              "  (layer2): Sequential(\n",
              "    (0): BasicBlock(\n",
              "      (conv1): Conv2d(64, 128, kernel_size=(3, 3), stride=(2, 2), padding=(1, 1), bias=False)\n",
              "      (bn1): BatchNorm2d(128, eps=1e-05, momentum=0.1, affine=True, track_running_stats=True)\n",
              "      (relu): ReLU(inplace=True)\n",
              "      (conv2): Conv2d(128, 128, kernel_size=(3, 3), stride=(1, 1), padding=(1, 1), bias=False)\n",
              "      (bn2): BatchNorm2d(128, eps=1e-05, momentum=0.1, affine=True, track_running_stats=True)\n",
              "      (downsample): Sequential(\n",
              "        (0): Conv2d(64, 128, kernel_size=(1, 1), stride=(2, 2), bias=False)\n",
              "        (1): BatchNorm2d(128, eps=1e-05, momentum=0.1, affine=True, track_running_stats=True)\n",
              "      )\n",
              "    )\n",
              "    (1): BasicBlock(\n",
              "      (conv1): Conv2d(128, 128, kernel_size=(3, 3), stride=(1, 1), padding=(1, 1), bias=False)\n",
              "      (bn1): BatchNorm2d(128, eps=1e-05, momentum=0.1, affine=True, track_running_stats=True)\n",
              "      (relu): ReLU(inplace=True)\n",
              "      (conv2): Conv2d(128, 128, kernel_size=(3, 3), stride=(1, 1), padding=(1, 1), bias=False)\n",
              "      (bn2): BatchNorm2d(128, eps=1e-05, momentum=0.1, affine=True, track_running_stats=True)\n",
              "    )\n",
              "  )\n",
              "  (layer3): Sequential(\n",
              "    (0): BasicBlock(\n",
              "      (conv1): Conv2d(128, 256, kernel_size=(3, 3), stride=(2, 2), padding=(1, 1), bias=False)\n",
              "      (bn1): BatchNorm2d(256, eps=1e-05, momentum=0.1, affine=True, track_running_stats=True)\n",
              "      (relu): ReLU(inplace=True)\n",
              "      (conv2): Conv2d(256, 256, kernel_size=(3, 3), stride=(1, 1), padding=(1, 1), bias=False)\n",
              "      (bn2): BatchNorm2d(256, eps=1e-05, momentum=0.1, affine=True, track_running_stats=True)\n",
              "      (downsample): Sequential(\n",
              "        (0): Conv2d(128, 256, kernel_size=(1, 1), stride=(2, 2), bias=False)\n",
              "        (1): BatchNorm2d(256, eps=1e-05, momentum=0.1, affine=True, track_running_stats=True)\n",
              "      )\n",
              "    )\n",
              "    (1): BasicBlock(\n",
              "      (conv1): Conv2d(256, 256, kernel_size=(3, 3), stride=(1, 1), padding=(1, 1), bias=False)\n",
              "      (bn1): BatchNorm2d(256, eps=1e-05, momentum=0.1, affine=True, track_running_stats=True)\n",
              "      (relu): ReLU(inplace=True)\n",
              "      (conv2): Conv2d(256, 256, kernel_size=(3, 3), stride=(1, 1), padding=(1, 1), bias=False)\n",
              "      (bn2): BatchNorm2d(256, eps=1e-05, momentum=0.1, affine=True, track_running_stats=True)\n",
              "    )\n",
              "  )\n",
              "  (layer4): Sequential(\n",
              "    (0): BasicBlock(\n",
              "      (conv1): Conv2d(256, 512, kernel_size=(3, 3), stride=(2, 2), padding=(1, 1), bias=False)\n",
              "      (bn1): BatchNorm2d(512, eps=1e-05, momentum=0.1, affine=True, track_running_stats=True)\n",
              "      (relu): ReLU(inplace=True)\n",
              "      (conv2): Conv2d(512, 512, kernel_size=(3, 3), stride=(1, 1), padding=(1, 1), bias=False)\n",
              "      (bn2): BatchNorm2d(512, eps=1e-05, momentum=0.1, affine=True, track_running_stats=True)\n",
              "      (downsample): Sequential(\n",
              "        (0): Conv2d(256, 512, kernel_size=(1, 1), stride=(2, 2), bias=False)\n",
              "        (1): BatchNorm2d(512, eps=1e-05, momentum=0.1, affine=True, track_running_stats=True)\n",
              "      )\n",
              "    )\n",
              "    (1): BasicBlock(\n",
              "      (conv1): Conv2d(512, 512, kernel_size=(3, 3), stride=(1, 1), padding=(1, 1), bias=False)\n",
              "      (bn1): BatchNorm2d(512, eps=1e-05, momentum=0.1, affine=True, track_running_stats=True)\n",
              "      (relu): ReLU(inplace=True)\n",
              "      (conv2): Conv2d(512, 512, kernel_size=(3, 3), stride=(1, 1), padding=(1, 1), bias=False)\n",
              "      (bn2): BatchNorm2d(512, eps=1e-05, momentum=0.1, affine=True, track_running_stats=True)\n",
              "    )\n",
              "  )\n",
              "  (avgpool): AdaptiveAvgPool2d(output_size=(1, 1))\n",
              "  (fc): Linear(in_features=512, out_features=7, bias=True)\n",
              ")"
            ]
          },
          "metadata": {
            "tags": []
          },
          "execution_count": 12
        }
      ]
    },
    {
      "cell_type": "code",
      "metadata": {
        "id": "SGN3x_PirgFv",
        "colab_type": "code",
        "colab": {}
      },
      "source": [
        "testset = torchvision.datasets.ImageFolder(root='./data/test', transform=transform)\n",
        "testloader = torch.utils.data.DataLoader(valset, batch_size=4,\n",
        "                                          shuffle=False, num_workers=2)"
      ],
      "execution_count": 0,
      "outputs": []
    },
    {
      "cell_type": "code",
      "metadata": {
        "id": "VkfP6InGrgF0",
        "colab_type": "code",
        "outputId": "4dfd7bfd-1dc1-431f-80cd-6fbeb6ad027f",
        "colab": {
          "base_uri": "https://localhost:8080/",
          "height": 35
        }
      },
      "source": [
        "correct = 0\n",
        "total = 0\n",
        "with torch.no_grad():\n",
        "    for data in testloader:\n",
        "        images, labels = data[0].to(device), data[1].to(device)\n",
        "        outputs = net(images)\n",
        "        _, predicted = torch.max(outputs.data, 1)\n",
        "        total += labels.size(0)\n",
        "        correct += (predicted == labels).sum().item()\n",
        "\n",
        "print('Accuracy of the network on test images: %d %%' % (\n",
        "    100 * correct / total))"
      ],
      "execution_count": 14,
      "outputs": [
        {
          "output_type": "stream",
          "text": [
            "Accuracy of the network on test images: 68 %\n"
          ],
          "name": "stdout"
        }
      ]
    },
    {
      "cell_type": "code",
      "metadata": {
        "id": "eWRReA5KbykQ",
        "colab_type": "code",
        "outputId": "6cdd4c4e-461b-4bca-9bbb-8e7fe176949d",
        "colab": {
          "base_uri": "https://localhost:8080/",
          "height": 141
        }
      },
      "source": [
        "class_correct = [0. for i in range(len(CLASSES))]\n",
        "class_total = [0. for i in range(len(CLASSES))]\n",
        "with torch.no_grad():\n",
        "    for data in testloader:\n",
        "        images, labels = data[0].to(device), data[1].to(device)\n",
        "        outputs = net(images)\n",
        "        _, predicted = torch.max(outputs, 1)\n",
        "        c = (predicted == labels).reshape(1, -1)\n",
        "        for i in range(c.size()[1]):\n",
        "            label = labels[i].item()\n",
        "            class_correct[label] += c[0, i].item()\n",
        "            class_total[label] += 1\n",
        "\n",
        "\n",
        "for i in range(len(CLASSES)):\n",
        "    print('Accuracy of %5s : %2d %%' % (\n",
        "        CLASSES[i], 100 * class_correct[i] / class_total[i]))"
      ],
      "execution_count": 15,
      "outputs": [
        {
          "output_type": "stream",
          "text": [
            "Accuracy of angry : 63 %\n",
            "Accuracy of disgust : 62 %\n",
            "Accuracy of  fear : 52 %\n",
            "Accuracy of happy : 86 %\n",
            "Accuracy of   sad : 52 %\n",
            "Accuracy of surprise : 84 %\n",
            "Accuracy of neutral : 65 %\n"
          ],
          "name": "stdout"
        }
      ]
    },
    {
      "cell_type": "code",
      "metadata": {
        "id": "7O8QHFAKdlAT",
        "colab_type": "code",
        "colab": {}
      },
      "source": [
        ""
      ],
      "execution_count": 0,
      "outputs": []
    }
  ]
}