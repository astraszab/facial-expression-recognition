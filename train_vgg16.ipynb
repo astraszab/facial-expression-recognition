{
  "nbformat": 4,
  "nbformat_minor": 0,
  "metadata": {
    "kernelspec": {
      "name": "python3",
      "display_name": "Python 3"
    },
    "language_info": {
      "codemirror_mode": {
        "name": "ipython",
        "version": 3
      },
      "file_extension": ".py",
      "mimetype": "text/x-python",
      "name": "python",
      "nbconvert_exporter": "python",
      "pygments_lexer": "ipython3",
      "version": "3.8.1"
    },
    "colab": {
      "name": "train.ipynb",
      "provenance": [],
      "collapsed_sections": []
    },
    "accelerator": "GPU"
  },
  "cells": [
    {
      "cell_type": "code",
      "metadata": {
        "id": "ri-ZOOgSrgER",
        "colab_type": "code",
        "colab": {}
      },
      "source": [
        "import torch\n",
        "import torchvision\n",
        "import torchvision.transforms as transforms\n",
        "import torch.nn as nn\n",
        "import torch.nn.functional as F\n",
        "import torch.optim as optim\n",
        "import matplotlib.pyplot as plt\n",
        "\n",
        "from constants import CLASSES\n",
        "from pathlib import Path\n",
        "from utils import train_net"
      ],
      "execution_count": 0,
      "outputs": []
    },
    {
      "cell_type": "code",
      "metadata": {
        "id": "oF4VoWEjrgEd",
        "colab_type": "code",
        "colab": {
          "base_uri": "https://localhost:8080/",
          "height": 320
        },
        "outputId": "3d23e311-7839-4201-e1fe-90e6268ab003"
      },
      "source": [
        "# for colab\n",
        "!wget -x --load-cookies cookies.txt \"https://www.kaggle.com/deadskull7/fer2013/download\" -O fer2013.zip\n",
        "!python unpack_data.py"
      ],
      "execution_count": 46,
      "outputs": [
        {
          "output_type": "stream",
          "text": [
            "--2020-04-11 09:14:45--  https://www.kaggle.com/deadskull7/fer2013/download\n",
            "Resolving www.kaggle.com (www.kaggle.com)... 35.244.233.98\n",
            "Connecting to www.kaggle.com (www.kaggle.com)|35.244.233.98|:443... connected.\n",
            "HTTP request sent, awaiting response... 302 Found\n",
            "Location: https://storage.googleapis.com/kaggle-data-sets/28577/36420/bundle/archive.zip?GoogleAccessId=web-data@kaggle-161607.iam.gserviceaccount.com&Expires=1586855685&Signature=MOWv3ng3O6JIMdRyAlBd6y0zpESiDf85XSyJFO37SIwt0Wt4cnTBkB8foJBHcvDPaIZ1CdZrghB%2BDMLgsV3hq%2BjI5%2FF%2BZJ1pAB4f16Go%2F%2FPqI5XwNKNHMuiLum2VWKEBYHFOfHUCYmRkymFygVfm4shq8PXIsuhBHXkHkqMz%2FUklaM5yQNDPWT%2Br8eLXVqG0IVgQ%2FcOLZaVg10TQqTYEqlw92XcDNmqXnLXnY2Rafh1zgl9BZkVDguYKw1Yly4mdP1pTb2iuGFhtla39q12gCts1YPp%2Fn3m%2FZkUYZ9TSO7xk1kAvYxDSaW1svTCSiUBE8%2BpNqJ2V0DYMLXSDSNwo%2Fg%3D%3D&response-content-disposition=attachment%3B+filename%3Dfer2013.zip [following]\n",
            "--2020-04-11 09:14:45--  https://storage.googleapis.com/kaggle-data-sets/28577/36420/bundle/archive.zip?GoogleAccessId=web-data@kaggle-161607.iam.gserviceaccount.com&Expires=1586855685&Signature=MOWv3ng3O6JIMdRyAlBd6y0zpESiDf85XSyJFO37SIwt0Wt4cnTBkB8foJBHcvDPaIZ1CdZrghB%2BDMLgsV3hq%2BjI5%2FF%2BZJ1pAB4f16Go%2F%2FPqI5XwNKNHMuiLum2VWKEBYHFOfHUCYmRkymFygVfm4shq8PXIsuhBHXkHkqMz%2FUklaM5yQNDPWT%2Br8eLXVqG0IVgQ%2FcOLZaVg10TQqTYEqlw92XcDNmqXnLXnY2Rafh1zgl9BZkVDguYKw1Yly4mdP1pTb2iuGFhtla39q12gCts1YPp%2Fn3m%2FZkUYZ9TSO7xk1kAvYxDSaW1svTCSiUBE8%2BpNqJ2V0DYMLXSDSNwo%2Fg%3D%3D&response-content-disposition=attachment%3B+filename%3Dfer2013.zip\n",
            "Resolving storage.googleapis.com (storage.googleapis.com)... 74.125.20.128, 2607:f8b0:400e:c03::80\n",
            "Connecting to storage.googleapis.com (storage.googleapis.com)|74.125.20.128|:443... connected.\n",
            "HTTP request sent, awaiting response... 200 OK\n",
            "Length: 101279992 (97M) [application/zip]\n",
            "Saving to: ‘fer2013.zip’\n",
            "\n",
            "fer2013.zip         100%[===================>]  96.59M  42.8MB/s    in 2.3s    \n",
            "\n",
            "2020-04-11 09:14:48 (42.8 MB/s) - ‘fer2013.zip’ saved [101279992/101279992]\n",
            "\n"
          ],
          "name": "stdout"
        }
      ]
    },
    {
      "cell_type": "code",
      "metadata": {
        "id": "7SvkauuMrgEq",
        "colab_type": "code",
        "colab": {
          "base_uri": "https://localhost:8080/",
          "height": 35
        },
        "outputId": "f0f0654b-6116-479e-f572-595b783fda98"
      },
      "source": [
        "device = torch.device(\"cuda:0\" if torch.cuda.is_available() else \"cpu\")\n",
        "device"
      ],
      "execution_count": 2,
      "outputs": [
        {
          "output_type": "execute_result",
          "data": {
            "text/plain": [
              "device(type='cuda', index=0)"
            ]
          },
          "metadata": {
            "tags": []
          },
          "execution_count": 2
        }
      ]
    },
    {
      "cell_type": "code",
      "metadata": {
        "id": "Hhud9JVcrgE0",
        "colab_type": "code",
        "colab": {}
      },
      "source": [
        "transform = transforms.Compose(\n",
        "    [transforms.Resize((224, 224)),\n",
        "     transforms.Grayscale(),\n",
        "     transforms.ToTensor(),\n",
        "     transforms.Normalize((0.5,), (0.5,))])\n",
        "\n",
        "transform_augment = transforms.Compose(\n",
        "    [\n",
        "     transforms.Resize((224, 224)),\n",
        "     transforms.Grayscale(),\n",
        "     transforms.RandomHorizontalFlip(),\n",
        "     transforms.ColorJitter(brightness=0.2),\n",
        "     transforms.RandomAffine(15, translate=(0.05, 0.05), scale=(0.9, 1.1)),\n",
        "     transforms.ToTensor(),\n",
        "     transforms.Normalize((0.5,), (0.5,)),\n",
        "    ]\n",
        ")"
      ],
      "execution_count": 0,
      "outputs": []
    },
    {
      "cell_type": "code",
      "metadata": {
        "id": "Jaq_5bzErgE7",
        "colab_type": "code",
        "colab": {}
      },
      "source": [
        "trainset = torchvision.datasets.ImageFolder(root='./data/train', transform=transform_augment)\n",
        "trainloader = torch.utils.data.DataLoader(trainset, batch_size=64,\n",
        "                                          shuffle=True, num_workers=2)"
      ],
      "execution_count": 0,
      "outputs": []
    },
    {
      "cell_type": "code",
      "metadata": {
        "id": "swTEblDBrgFC",
        "colab_type": "code",
        "colab": {}
      },
      "source": [
        "valset = torchvision.datasets.ImageFolder(root='./data/val', transform=transform)\n",
        "valloader = torch.utils.data.DataLoader(valset, batch_size=4,\n",
        "                                          shuffle=False, num_workers=2)"
      ],
      "execution_count": 0,
      "outputs": []
    },
    {
      "cell_type": "code",
      "metadata": {
        "id": "am5YXL2MrgFO",
        "colab_type": "code",
        "colab": {}
      },
      "source": [
        "net = torchvision.models.vgg16()\n",
        "net.features[0] = nn.Conv2d(1, 64, 3, 1, padding=1, padding_mode='zeros')\n",
        "net.classifier[6] = nn.Linear(in_features=4096, out_features=len(CLASSES), bias=True)"
      ],
      "execution_count": 0,
      "outputs": []
    },
    {
      "cell_type": "code",
      "metadata": {
        "id": "HlwKBvy8rgFS",
        "colab_type": "code",
        "colab": {}
      },
      "source": [
        "criterion = nn.CrossEntropyLoss()\n",
        "optimizer = optim.Adam(net.parameters(), lr=3e-4)\n",
        "scheduler = optim.lr_scheduler.ReduceLROnPlateau(optimizer, factor=0.5, patience=3, threshold=0.001)"
      ],
      "execution_count": 0,
      "outputs": []
    },
    {
      "cell_type": "code",
      "metadata": {
        "id": "yYwlasDYrgFY",
        "colab_type": "code",
        "colab": {
          "base_uri": "https://localhost:8080/",
          "height": 637
        },
        "outputId": "1eac63aa-71d2-498c-e4bc-eb91b374a240"
      },
      "source": [
        "train_net(net, trainloader, valloader, criterion, optimizer, device, \n",
        "          num_epochs=20, lr_scheduler=scheduler, eval_period=len(trainloader))"
      ],
      "execution_count": 9,
      "outputs": [
        {
          "output_type": "stream",
          "text": [
            "[1,   449] train_loss: 1.813, val_loss: 1.708, val_acc: 0.312\n",
            "[2,   449] train_loss: 1.635, val_loss: 1.466, val_acc: 0.425\n",
            "[3,   449] train_loss: 1.396, val_loss: 1.255, val_acc: 0.520\n",
            "[4,   449] train_loss: 1.265, val_loss: 1.183, val_acc: 0.555\n",
            "[5,   449] train_loss: 1.170, val_loss: 1.218, val_acc: 0.548\n",
            "[6,   449] train_loss: 1.122, val_loss: 1.083, val_acc: 0.588\n",
            "[7,   449] train_loss: 1.077, val_loss: 1.109, val_acc: 0.587\n",
            "[8,   449] train_loss: 1.044, val_loss: 1.078, val_acc: 0.601\n",
            "[9,   449] train_loss: 1.008, val_loss: 1.055, val_acc: 0.614\n",
            "[10,   449] train_loss: 0.983, val_loss: 1.004, val_acc: 0.629\n",
            "[11,   449] train_loss: 0.956, val_loss: 1.016, val_acc: 0.618\n",
            "[12,   449] train_loss: 0.930, val_loss: 0.999, val_acc: 0.636\n",
            "[13,   449] train_loss: 0.908, val_loss: 0.994, val_acc: 0.640\n",
            "[14,   449] train_loss: 0.887, val_loss: 0.993, val_acc: 0.649\n",
            "[15,   449] train_loss: 0.859, val_loss: 0.985, val_acc: 0.643\n",
            "[16,   449] train_loss: 0.841, val_loss: 0.968, val_acc: 0.653\n",
            "[17,   449] train_loss: 0.822, val_loss: 0.973, val_acc: 0.650\n",
            "[18,   449] train_loss: 0.797, val_loss: 0.979, val_acc: 0.654\n",
            "[19,   449] train_loss: 0.784, val_loss: 1.012, val_acc: 0.659\n",
            "[20,   449] train_loss: 0.764, val_loss: 0.960, val_acc: 0.669\n",
            "Finished training\n"
          ],
          "name": "stdout"
        },
        {
          "output_type": "display_data",
          "data": {
            "image/png": "[encoded data removed]",
            "text/plain": [
              "<Figure size 432x288 with 1 Axes>"
            ]
          },
          "metadata": {
            "tags": [],
            "needs_background": "light"
          }
        }
      ]
    },
    {
      "cell_type": "code",
      "metadata": {
        "id": "MRLdPNFXrgFe",
        "colab_type": "code",
        "colab": {}
      },
      "source": [
        "Path('weights').mkdir(exist_ok=True)\n",
        "PATH = 'weights/vgg16.pth'\n",
        "torch.save(net.state_dict(), PATH)"
      ],
      "execution_count": 0,
      "outputs": []
    },
    {
      "cell_type": "markdown",
      "metadata": {
        "id": "ILFPw1zArgFk",
        "colab_type": "text"
      },
      "source": [
        "### Evaluating"
      ]
    },
    {
      "cell_type": "code",
      "metadata": {
        "id": "4jk1d2uUrgFl",
        "colab_type": "code",
        "colab": {
          "base_uri": "https://localhost:8080/",
          "height": 35
        },
        "outputId": "af5d04d3-0332-432f-da53-8b20fd088d2b"
      },
      "source": [
        "device = torch.device(\"cuda:0\" if torch.cuda.is_available() else \"cpu\")\n",
        "device"
      ],
      "execution_count": 11,
      "outputs": [
        {
          "output_type": "execute_result",
          "data": {
            "text/plain": [
              "device(type='cuda', index=0)"
            ]
          },
          "metadata": {
            "tags": []
          },
          "execution_count": 11
        }
      ]
    },
    {
      "cell_type": "code",
      "metadata": {
        "id": "guqbGj08VHVU",
        "colab_type": "code",
        "colab": {}
      },
      "source": [
        "net = torchvision.models.vgg16()\n",
        "net.features[0] = nn.Conv2d(1, 64, 3, 1, padding=1, padding_mode='zeros')\n",
        "net.classifier[6] = nn.Linear(in_features=4096, out_features=len(CLASSES), bias=True)"
      ],
      "execution_count": 0,
      "outputs": []
    },
    {
      "cell_type": "code",
      "metadata": {
        "id": "XicoqsnCrgFq",
        "colab_type": "code",
        "colab": {
          "base_uri": "https://localhost:8080/",
          "height": 814
        },
        "outputId": "31450e0c-c935-4336-e6e9-de680079b42a"
      },
      "source": [
        "net.load_state_dict(torch.load(PATH))\n",
        "net.to(device)\n",
        "net.eval()"
      ],
      "execution_count": 13,
      "outputs": [
        {
          "output_type": "execute_result",
          "data": {
            "text/plain": [
              "VGG(\n",
              "  (features): Sequential(\n",
              "    (0): Conv2d(1, 64, kernel_size=(3, 3), stride=(1, 1), padding=(1, 1))\n",
              "    (1): ReLU(inplace=True)\n",
              "    (2): Conv2d(64, 64, kernel_size=(3, 3), stride=(1, 1), padding=(1, 1))\n",
              "    (3): ReLU(inplace=True)\n",
              "    (4): MaxPool2d(kernel_size=2, stride=2, padding=0, dilation=1, ceil_mode=False)\n",
              "    (5): Conv2d(64, 128, kernel_size=(3, 3), stride=(1, 1), padding=(1, 1))\n",
              "    (6): ReLU(inplace=True)\n",
              "    (7): Conv2d(128, 128, kernel_size=(3, 3), stride=(1, 1), padding=(1, 1))\n",
              "    (8): ReLU(inplace=True)\n",
              "    (9): MaxPool2d(kernel_size=2, stride=2, padding=0, dilation=1, ceil_mode=False)\n",
              "    (10): Conv2d(128, 256, kernel_size=(3, 3), stride=(1, 1), padding=(1, 1))\n",
              "    (11): ReLU(inplace=True)\n",
              "    (12): Conv2d(256, 256, kernel_size=(3, 3), stride=(1, 1), padding=(1, 1))\n",
              "    (13): ReLU(inplace=True)\n",
              "    (14): Conv2d(256, 256, kernel_size=(3, 3), stride=(1, 1), padding=(1, 1))\n",
              "    (15): ReLU(inplace=True)\n",
              "    (16): MaxPool2d(kernel_size=2, stride=2, padding=0, dilation=1, ceil_mode=False)\n",
              "    (17): Conv2d(256, 512, kernel_size=(3, 3), stride=(1, 1), padding=(1, 1))\n",
              "    (18): ReLU(inplace=True)\n",
              "    (19): Conv2d(512, 512, kernel_size=(3, 3), stride=(1, 1), padding=(1, 1))\n",
              "    (20): ReLU(inplace=True)\n",
              "    (21): Conv2d(512, 512, kernel_size=(3, 3), stride=(1, 1), padding=(1, 1))\n",
              "    (22): ReLU(inplace=True)\n",
              "    (23): MaxPool2d(kernel_size=2, stride=2, padding=0, dilation=1, ceil_mode=False)\n",
              "    (24): Conv2d(512, 512, kernel_size=(3, 3), stride=(1, 1), padding=(1, 1))\n",
              "    (25): ReLU(inplace=True)\n",
              "    (26): Conv2d(512, 512, kernel_size=(3, 3), stride=(1, 1), padding=(1, 1))\n",
              "    (27): ReLU(inplace=True)\n",
              "    (28): Conv2d(512, 512, kernel_size=(3, 3), stride=(1, 1), padding=(1, 1))\n",
              "    (29): ReLU(inplace=True)\n",
              "    (30): MaxPool2d(kernel_size=2, stride=2, padding=0, dilation=1, ceil_mode=False)\n",
              "  )\n",
              "  (avgpool): AdaptiveAvgPool2d(output_size=(7, 7))\n",
              "  (classifier): Sequential(\n",
              "    (0): Linear(in_features=25088, out_features=4096, bias=True)\n",
              "    (1): ReLU(inplace=True)\n",
              "    (2): Dropout(p=0.5, inplace=False)\n",
              "    (3): Linear(in_features=4096, out_features=4096, bias=True)\n",
              "    (4): ReLU(inplace=True)\n",
              "    (5): Dropout(p=0.5, inplace=False)\n",
              "    (6): Linear(in_features=4096, out_features=7, bias=True)\n",
              "  )\n",
              ")"
            ]
          },
          "metadata": {
            "tags": []
          },
          "execution_count": 13
        }
      ]
    },
    {
      "cell_type": "code",
      "metadata": {
        "id": "SGN3x_PirgFv",
        "colab_type": "code",
        "colab": {}
      },
      "source": [
        "testset = torchvision.datasets.ImageFolder(root='./data/test', transform=transform)\n",
        "testloader = torch.utils.data.DataLoader(valset, batch_size=4,\n",
        "                                          shuffle=False, num_workers=2)"
      ],
      "execution_count": 0,
      "outputs": []
    },
    {
      "cell_type": "code",
      "metadata": {
        "id": "VkfP6InGrgF0",
        "colab_type": "code",
        "colab": {
          "base_uri": "https://localhost:8080/",
          "height": 35
        },
        "outputId": "159761a8-2dff-455a-ef90-75f36dd02df0"
      },
      "source": [
        "correct = 0\n",
        "total = 0\n",
        "with torch.no_grad():\n",
        "    for data in testloader:\n",
        "        images, labels = data[0].to(device), data[1].to(device)\n",
        "        outputs = net(images)\n",
        "        _, predicted = torch.max(outputs.data, 1)\n",
        "        total += labels.size(0)\n",
        "        correct += (predicted == labels).sum().item()\n",
        "\n",
        "print('Accuracy of the network on test images: %d %%' % (\n",
        "    100 * correct / total))"
      ],
      "execution_count": 15,
      "outputs": [
        {
          "output_type": "stream",
          "text": [
            "Accuracy of the network on test images: 66 %\n"
          ],
          "name": "stdout"
        }
      ]
    },
    {
      "cell_type": "code",
      "metadata": {
        "id": "eWRReA5KbykQ",
        "colab_type": "code",
        "colab": {
          "base_uri": "https://localhost:8080/",
          "height": 141
        },
        "outputId": "4c5ceb1d-da96-4983-ce93-131e8fbf09db"
      },
      "source": [
        "class_correct = [0. for i in range(len(CLASSES))]\n",
        "class_total = [0. for i in range(len(CLASSES))]\n",
        "with torch.no_grad():\n",
        "    for data in testloader:\n",
        "        images, labels = data[0].to(device), data[1].to(device)\n",
        "        outputs = net(images)\n",
        "        _, predicted = torch.max(outputs, 1)\n",
        "        c = (predicted == labels).reshape(1, -1)\n",
        "        for i in range(c.size()[1]):\n",
        "            label = labels[i].item()\n",
        "            class_correct[label] += c[0, i].item()\n",
        "            class_total[label] += 1\n",
        "\n",
        "\n",
        "for i in range(len(CLASSES)):\n",
        "    print('Accuracy of %5s : %2d %%' % (\n",
        "        CLASSES[i], 100 * class_correct[i] / class_total[i]))"
      ],
      "execution_count": 16,
      "outputs": [
        {
          "output_type": "stream",
          "text": [
            "Accuracy of angry : 60 %\n",
            "Accuracy of disgust : 48 %\n",
            "Accuracy of  fear : 36 %\n",
            "Accuracy of happy : 87 %\n",
            "Accuracy of   sad : 58 %\n",
            "Accuracy of surprise : 81 %\n",
            "Accuracy of neutral : 66 %\n"
          ],
          "name": "stdout"
        }
      ]
    },
    {
      "cell_type": "code",
      "metadata": {
        "id": "7O8QHFAKdlAT",
        "colab_type": "code",
        "colab": {}
      },
      "source": [
        ""
      ],
      "execution_count": 0,
      "outputs": []
    }
  ]
}