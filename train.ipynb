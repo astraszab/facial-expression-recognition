{
 "cells": [
  {
   "cell_type": "code",
   "execution_count": 1,
   "metadata": {},
   "outputs": [],
   "source": [
    "import torch\n",
    "import torchvision\n",
    "import torchvision.transforms as transforms\n",
    "import torch.nn as nn\n",
    "import torch.nn.functional as F\n",
    "import torch.optim as optim\n",
    "import matplotlib.pyplot as plt\n",
    "\n",
    "from constants import CLASSES\n",
    "from pathlib import Path\n",
    "from utils import train_net"
   ]
  },
  {
   "cell_type": "code",
   "execution_count": 2,
   "metadata": {},
   "outputs": [
    {
     "data": {
      "text/plain": [
       "torch.optim.lr_scheduler.OneCycleLR"
      ]
     },
     "execution_count": 2,
     "metadata": {},
     "output_type": "execute_result"
    }
   ],
   "source": [
    "optim.lr_scheduler.OneCycleLR"
   ]
  },
  {
   "cell_type": "code",
   "execution_count": 3,
   "metadata": {},
   "outputs": [
    {
     "data": {
      "text/plain": [
       "device(type='cpu')"
      ]
     },
     "execution_count": 3,
     "metadata": {},
     "output_type": "execute_result"
    }
   ],
   "source": [
    "device = torch.device(\"cuda:0\" if torch.cuda.is_available() else \"cpu\")\n",
    "device"
   ]
  },
  {
   "cell_type": "code",
   "execution_count": 4,
   "metadata": {},
   "outputs": [],
   "source": [
    "transform = transforms.Compose(\n",
    "    [transforms.Grayscale(),\n",
    "     transforms.ToTensor(),\n",
    "     transforms.Normalize((0.5,), (0.5,))])"
   ]
  },
  {
   "cell_type": "code",
   "execution_count": 5,
   "metadata": {},
   "outputs": [],
   "source": [
    "trainset = torchvision.datasets.ImageFolder(root='./data/train', transform=transform)\n",
    "trainloader = torch.utils.data.DataLoader(trainset, batch_size=4,\n",
    "                                          shuffle=True, num_workers=2)"
   ]
  },
  {
   "cell_type": "code",
   "execution_count": 6,
   "metadata": {},
   "outputs": [],
   "source": [
    "valset = torchvision.datasets.ImageFolder(root='./data/val', transform=transform)\n",
    "valloader = torch.utils.data.DataLoader(valset, batch_size=4,\n",
    "                                          shuffle=True, num_workers=2)"
   ]
  },
  {
   "cell_type": "code",
   "execution_count": 7,
   "metadata": {},
   "outputs": [],
   "source": [
    "class CustomNet(nn.Module):\n",
    "    def __init__(self):\n",
    "        super(CustomNet, self).__init__()\n",
    "        self.conv1 = nn.Conv2d(1, 6, 5)\n",
    "        self.pool = nn.MaxPool2d(2)\n",
    "        self.conv2 = nn.Conv2d(6, 16, 5)\n",
    "        self.fc1 = nn.Linear(16 * 9 * 9, 130)\n",
    "        self.fc2 = nn.Linear(130, 40)\n",
    "        self.fc3 = nn.Linear(40, 7)\n",
    "        \n",
    "    def forward(self, x):\n",
    "        x = self.pool(F.relu(self.conv1(x)))\n",
    "        x = self.pool(F.relu(self.conv2(x)))\n",
    "        x = x.view(-1, 16 * 9 * 9)\n",
    "        x = F.relu(self.fc1(x))\n",
    "        x = F.relu(self.fc2(x))\n",
    "        x = self.fc3(x)\n",
    "        return x"
   ]
  },
  {
   "cell_type": "code",
   "execution_count": 8,
   "metadata": {},
   "outputs": [],
   "source": [
    "net = CustomNet()"
   ]
  },
  {
   "cell_type": "code",
   "execution_count": 9,
   "metadata": {},
   "outputs": [],
   "source": [
    "criterion = nn.CrossEntropyLoss()\n",
    "optimizer = optim.AdamW(net.parameters(), lr=3e-4, weight_decay=0.1)\n",
    "scheduler = optim.lr_scheduler.CyclicLR(optimizer, 3e-4, 1e-3, cycle_momentum=False)"
   ]
  },
  {
   "cell_type": "code",
   "execution_count": 10,
   "metadata": {},
   "outputs": [
    {
     "name": "stdout",
     "output_type": "stream",
     "text": [
      "[1,  2000] train_loss: 1.751, val_loss: 1.694, val_acc: 0.325\n",
      "[1,  4000] train_loss: 1.560, val_loss: 1.502, val_acc: 0.416\n",
      "[1,  6000] train_loss: 1.480, val_loss: 1.452, val_acc: 0.438\n",
      "[2,  2000] train_loss: 1.383, val_loss: 1.432, val_acc: 0.451\n",
      "[2,  4000] train_loss: 1.398, val_loss: 1.376, val_acc: 0.473\n",
      "[2,  6000] train_loss: 1.361, val_loss: 1.356, val_acc: 0.480\n",
      "[3,  2000] train_loss: 1.314, val_loss: 1.369, val_acc: 0.479\n",
      "[3,  4000] train_loss: 1.323, val_loss: 1.331, val_acc: 0.497\n",
      "[3,  6000] train_loss: 1.309, val_loss: 1.301, val_acc: 0.510\n",
      "[4,  2000] train_loss: 1.298, val_loss: 1.319, val_acc: 0.488\n",
      "[4,  4000] train_loss: 1.227, val_loss: 1.342, val_acc: 0.491\n",
      "[4,  6000] train_loss: 1.296, val_loss: 1.296, val_acc: 0.510\n",
      "[5,  2000] train_loss: 1.248, val_loss: 1.279, val_acc: 0.516\n",
      "[5,  4000] train_loss: 1.240, val_loss: 1.324, val_acc: 0.501\n",
      "[5,  6000] train_loss: 1.257, val_loss: 1.283, val_acc: 0.510\n",
      "[6,  2000] train_loss: 1.191, val_loss: 1.311, val_acc: 0.501\n",
      "[6,  4000] train_loss: 1.220, val_loss: 1.270, val_acc: 0.512\n",
      "[6,  6000] train_loss: 1.229, val_loss: 1.301, val_acc: 0.502\n",
      "[7,  2000] train_loss: 1.161, val_loss: 1.303, val_acc: 0.506\n",
      "[7,  4000] train_loss: 1.206, val_loss: 1.281, val_acc: 0.522\n",
      "[7,  6000] train_loss: 1.184, val_loss: 1.256, val_acc: 0.522\n",
      "[8,  2000] train_loss: 1.153, val_loss: 1.232, val_acc: 0.526\n",
      "[8,  4000] train_loss: 1.179, val_loss: 1.273, val_acc: 0.512\n",
      "[8,  6000] train_loss: 1.194, val_loss: 1.227, val_acc: 0.531\n",
      "[9,  2000] train_loss: 1.181, val_loss: 1.294, val_acc: 0.508\n",
      "[9,  4000] train_loss: 1.146, val_loss: 1.273, val_acc: 0.518\n",
      "[9,  6000] train_loss: 1.207, val_loss: 1.269, val_acc: 0.519\n",
      "[10,  2000] train_loss: 1.140, val_loss: 1.281, val_acc: 0.508\n",
      "[10,  4000] train_loss: 1.137, val_loss: 1.246, val_acc: 0.522\n",
      "[10,  6000] train_loss: 1.195, val_loss: 1.268, val_acc: 0.520\n",
      "Finished training\n"
     ]
    },
    {
     "data": {
      "image/png": "[encoded data removed]",
      "text/plain": [
       "<Figure size 432x288 with 1 Axes>"
      ]
     },
     "metadata": {
      "needs_background": "light"
     },
     "output_type": "display_data"
    }
   ],
   "source": [
    "train_net(net, trainloader, valloader, criterion, optimizer, torch.device('cpu'), \n",
    "          num_epochs=10, lr_scheduler=scheduler)"
   ]
  },
  {
   "cell_type": "code",
   "execution_count": 11,
   "metadata": {},
   "outputs": [],
   "source": [
    "Path('weights').mkdir(exist_ok=True)\n",
    "PATH = 'weights/custom_net.pth'\n",
    "torch.save(net.state_dict(), PATH)"
   ]
  },
  {
   "cell_type": "markdown",
   "metadata": {},
   "source": [
    "### Evaluating"
   ]
  },
  {
   "cell_type": "code",
   "execution_count": 12,
   "metadata": {},
   "outputs": [
    {
     "data": {
      "text/plain": [
       "device(type='cpu')"
      ]
     },
     "execution_count": 12,
     "metadata": {},
     "output_type": "execute_result"
    }
   ],
   "source": [
    "device = torch.device(\"cuda:0\" if torch.cuda.is_available() else \"cpu\")\n",
    "device"
   ]
  },
  {
   "cell_type": "code",
   "execution_count": 13,
   "metadata": {},
   "outputs": [
    {
     "data": {
      "text/plain": [
       "CustomNet(\n",
       "  (conv1): Conv2d(1, 6, kernel_size=(5, 5), stride=(1, 1))\n",
       "  (pool): MaxPool2d(kernel_size=2, stride=2, padding=0, dilation=1, ceil_mode=False)\n",
       "  (conv2): Conv2d(6, 16, kernel_size=(5, 5), stride=(1, 1))\n",
       "  (fc1): Linear(in_features=1296, out_features=130, bias=True)\n",
       "  (fc2): Linear(in_features=130, out_features=40, bias=True)\n",
       "  (fc3): Linear(in_features=40, out_features=7, bias=True)\n",
       ")"
      ]
     },
     "execution_count": 13,
     "metadata": {},
     "output_type": "execute_result"
    }
   ],
   "source": [
    "net = CustomNet()\n",
    "net.load_state_dict(torch.load(PATH))\n",
    "net.to(device)\n",
    "net.eval()"
   ]
  },
  {
   "cell_type": "code",
   "execution_count": 14,
   "metadata": {},
   "outputs": [],
   "source": [
    "testset = torchvision.datasets.ImageFolder(root='./data/test', transform=transform)\n",
    "testloader = torch.utils.data.DataLoader(valset, batch_size=4,\n",
    "                                          shuffle=False, num_workers=2)"
   ]
  },
  {
   "cell_type": "code",
   "execution_count": 15,
   "metadata": {},
   "outputs": [
    {
     "name": "stdout",
     "output_type": "stream",
     "text": [
      "Accuracy of the network on test images: 51 %\n"
     ]
    }
   ],
   "source": [
    "correct = 0\n",
    "total = 0\n",
    "with torch.no_grad():\n",
    "    for data in testloader:\n",
    "        images, labels = data[0].to(device), data[1].to(device)\n",
    "        outputs = net(images)\n",
    "        _, predicted = torch.max(outputs.data, 1)\n",
    "        total += labels.size(0)\n",
    "        correct += (predicted == labels).sum().item()\n",
    "\n",
    "print('Accuracy of the network on test images: %d %%' % (\n",
    "    100 * correct / total))"
   ]
  }
 ],
 "metadata": {
  "kernelspec": {
   "display_name": "Python 3",
   "language": "python",
   "name": "python3"
  },
  "language_info": {
   "codemirror_mode": {
    "name": "ipython",
    "version": 3
   },
   "file_extension": ".py",
   "mimetype": "text/x-python",
   "name": "python",
   "nbconvert_exporter": "python",
   "pygments_lexer": "ipython3",
   "version": "3.8.1"
  }
 },
 "nbformat": 4,
 "nbformat_minor": 4
}
