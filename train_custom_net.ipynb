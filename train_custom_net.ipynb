{
 "cells": [
  {
   "cell_type": "code",
   "execution_count": 0,
   "metadata": {
    "colab": {},
    "colab_type": "code",
    "id": "ri-ZOOgSrgER"
   },
   "outputs": [],
   "source": [
    "import torch\n",
    "import torchvision\n",
    "import torchvision.transforms as transforms\n",
    "import torch.nn as nn\n",
    "import torch.nn.functional as F\n",
    "import torch.optim as optim\n",
    "import matplotlib.pyplot as plt\n",
    "\n",
    "from constants import CLASSES\n",
    "from pathlib import Path\n",
    "from utils import train_net"
   ]
  },
  {
   "cell_type": "code",
   "execution_count": 2,
   "metadata": {
    "colab": {
     "base_uri": "https://localhost:8080/",
     "height": 320
    },
    "colab_type": "code",
    "id": "oF4VoWEjrgEd",
    "outputId": "cc0650de-1eaa-4423-e34c-fffa9bf50cc3"
   },
   "outputs": [
    {
     "name": "stdout",
     "output_type": "stream",
     "text": [
      "--2020-04-11 05:20:41--  https://www.kaggle.com/deadskull7/fer2013/download\n",
      "Resolving www.kaggle.com (www.kaggle.com)... 35.244.233.98\n",
      "Connecting to www.kaggle.com (www.kaggle.com)|35.244.233.98|:443... connected.\n",
      "HTTP request sent, awaiting response... 302 Found\n",
      "Location: https://storage.googleapis.com/kaggle-data-sets/28577/36420/bundle/archive.zip?GoogleAccessId=web-data@kaggle-161607.iam.gserviceaccount.com&Expires=1586841641&Signature=f%2F%2FKZU9LNrtxtZRWkyn5qhnBB5KsFw%2BPQ7fQBwPBy9XTKqlQCpiqYzt1EqIhPZha13ywkFuFFGv0qmhufb2PjI99TcQH%2B8rsbak%2FcYgxesk1j5DpgzfPhqKrh4op5GObtNUXcr0nF0714QncorhAorZhbq7LswtKJ52xP1XoJnDljkLlRMZ0E1p49iYXuZwHJdnjL4yYoHlmjfPWzpAqOP8bHo4WAa0A1ko4g8d17Zd8Ej0YoiU72kW4fVVgEP2318URZxCCf5CW4hIsRyACgxk7Ik9ZGYaJz%2BVyLnMP2FgPR2ieWXlTUmJlzugdcLN1LOWoh5dGT%2Fh0%2B930YBY56w%3D%3D&response-content-disposition=attachment%3B+filename%3Dfer2013.zip [following]\n",
      "--2020-04-11 05:20:41--  https://storage.googleapis.com/kaggle-data-sets/28577/36420/bundle/archive.zip?GoogleAccessId=web-data@kaggle-161607.iam.gserviceaccount.com&Expires=1586841641&Signature=f%2F%2FKZU9LNrtxtZRWkyn5qhnBB5KsFw%2BPQ7fQBwPBy9XTKqlQCpiqYzt1EqIhPZha13ywkFuFFGv0qmhufb2PjI99TcQH%2B8rsbak%2FcYgxesk1j5DpgzfPhqKrh4op5GObtNUXcr0nF0714QncorhAorZhbq7LswtKJ52xP1XoJnDljkLlRMZ0E1p49iYXuZwHJdnjL4yYoHlmjfPWzpAqOP8bHo4WAa0A1ko4g8d17Zd8Ej0YoiU72kW4fVVgEP2318URZxCCf5CW4hIsRyACgxk7Ik9ZGYaJz%2BVyLnMP2FgPR2ieWXlTUmJlzugdcLN1LOWoh5dGT%2Fh0%2B930YBY56w%3D%3D&response-content-disposition=attachment%3B+filename%3Dfer2013.zip\n",
      "Resolving storage.googleapis.com (storage.googleapis.com)... 74.125.195.128, 2607:f8b0:400e:c09::80\n",
      "Connecting to storage.googleapis.com (storage.googleapis.com)|74.125.195.128|:443... connected.\n",
      "HTTP request sent, awaiting response... 200 OK\n",
      "Length: 101279992 (97M) [application/zip]\n",
      "Saving to: ‘fer2013.zip’\n",
      "\n",
      "fer2013.zip         100%[===================>]  96.59M  57.4MB/s    in 1.7s    \n",
      "\n",
      "2020-04-11 05:20:43 (57.4 MB/s) - ‘fer2013.zip’ saved [101279992/101279992]\n",
      "\n"
     ]
    }
   ],
   "source": [
    "# for colab\n",
    "!wget -x --load-cookies cookies.txt \"https://www.kaggle.com/deadskull7/fer2013/download\" -O fer2013.zip\n",
    "!python unpack_data.py"
   ]
  },
  {
   "cell_type": "code",
   "execution_count": 2,
   "metadata": {
    "colab": {
     "base_uri": "https://localhost:8080/",
     "height": 35
    },
    "colab_type": "code",
    "id": "7SvkauuMrgEq",
    "outputId": "79948898-e7af-4bef-9f2b-885c3c5bae46"
   },
   "outputs": [
    {
     "data": {
      "text/plain": [
       "device(type='cuda', index=0)"
      ]
     },
     "execution_count": 2,
     "metadata": {
      "tags": []
     },
     "output_type": "execute_result"
    }
   ],
   "source": [
    "device = torch.device(\"cuda:0\" if torch.cuda.is_available() else \"cpu\")\n",
    "device"
   ]
  },
  {
   "cell_type": "code",
   "execution_count": 0,
   "metadata": {
    "colab": {},
    "colab_type": "code",
    "id": "Hhud9JVcrgE0"
   },
   "outputs": [],
   "source": [
    "transform = transforms.Compose(\n",
    "    [transforms.Grayscale(),\n",
    "     transforms.ToTensor(),\n",
    "     transforms.Normalize((0.5,), (0.5,))])\n",
    "\n",
    "transform_augment = transforms.Compose(\n",
    "    [\n",
    "     transforms.Grayscale(),\n",
    "     transforms.RandomHorizontalFlip(),\n",
    "     transforms.ColorJitter(brightness=0.2),\n",
    "     transforms.RandomAffine(15, translate=(0.05, 0.05), scale=(0.9, 1.1)),\n",
    "     transforms.ToTensor(),\n",
    "     transforms.Normalize((0.5,), (0.5,)),\n",
    "    ]\n",
    ")"
   ]
  },
  {
   "cell_type": "code",
   "execution_count": 0,
   "metadata": {
    "colab": {},
    "colab_type": "code",
    "id": "Jaq_5bzErgE7"
   },
   "outputs": [],
   "source": [
    "trainset = torchvision.datasets.ImageFolder(root='./data/train', transform=transform_augment)\n",
    "trainloader = torch.utils.data.DataLoader(trainset, batch_size=64,\n",
    "                                          shuffle=True, num_workers=2)"
   ]
  },
  {
   "cell_type": "code",
   "execution_count": 0,
   "metadata": {
    "colab": {},
    "colab_type": "code",
    "id": "swTEblDBrgFC"
   },
   "outputs": [],
   "source": [
    "valset = torchvision.datasets.ImageFolder(root='./data/val', transform=transform)\n",
    "valloader = torch.utils.data.DataLoader(valset, batch_size=4,\n",
    "                                          shuffle=False, num_workers=2)"
   ]
  },
  {
   "cell_type": "code",
   "execution_count": 0,
   "metadata": {
    "colab": {},
    "colab_type": "code",
    "id": "vqAfCg5brgFI"
   },
   "outputs": [],
   "source": [
    "class CustomNet(nn.Module):\n",
    "    def __init__(self):\n",
    "        super(CustomNet, self).__init__()\n",
    "        self.conv1 = nn.Conv2d(1, 6, 3)\n",
    "        self.bn1 = nn.BatchNorm2d(6)\n",
    "        self.conv2 = nn.Conv2d(6, 18, 3)\n",
    "        self.bn2 = nn.BatchNorm2d(18)\n",
    "        self.pool = nn.MaxPool2d(2)\n",
    "        self.conv3 = nn.Conv2d(18, 36, 3)\n",
    "        self.bn3 = nn.BatchNorm2d(36)\n",
    "        self.dropout = nn.Dropout(p=0.5)\n",
    "        self.fc1 = nn.Linear(36 * 10 * 10, 100)\n",
    "        self.fc2 = nn.Linear(100, 7)\n",
    "        \n",
    "    def forward(self, x):\n",
    "        x = F.relu(self.conv1(x))\n",
    "        x = self.bn1(x)\n",
    "        x = self.pool(F.relu(self.conv2(x)))\n",
    "        x = self.bn2(x)\n",
    "        x = self.pool(F.relu(self.conv3(x)))\n",
    "        x = self.bn3(x)\n",
    "        x = x.view(-1, 36 * 10 * 10)\n",
    "        x = self.dropout(x)\n",
    "        x = torch.tanh(self.fc1(x))\n",
    "        x = self.dropout(x)\n",
    "        x = self.fc2(x)\n",
    "        return x"
   ]
  },
  {
   "cell_type": "code",
   "execution_count": 0,
   "metadata": {
    "colab": {},
    "colab_type": "code",
    "id": "am5YXL2MrgFO"
   },
   "outputs": [],
   "source": [
    "net = CustomNet()"
   ]
  },
  {
   "cell_type": "code",
   "execution_count": 0,
   "metadata": {
    "colab": {},
    "colab_type": "code",
    "id": "HlwKBvy8rgFS"
   },
   "outputs": [],
   "source": [
    "criterion = nn.CrossEntropyLoss()\n",
    "optimizer = optim.Adam(net.parameters(), lr=3e-4)\n",
    "scheduler = optim.lr_scheduler.ReduceLROnPlateau(optimizer, factor=0.5, patience=3, threshold=0.001)\n",
    "#scheduler = optim.lr_scheduler.CyclicLR(optimizer, base_lr=3e-4, max_lr=1e-3, cycle_momentum=False, step_size_up=449)"
   ]
  },
  {
   "cell_type": "code",
   "execution_count": 9,
   "metadata": {
    "colab": {
     "base_uri": "https://localhost:8080/",
     "height": 1000
    },
    "colab_type": "code",
    "id": "yYwlasDYrgFY",
    "outputId": "b0e81a8a-0062-4e24-f4c6-ad1505b14ec0"
   },
   "outputs": [
    {
     "name": "stdout",
     "output_type": "stream",
     "text": [
      "[1,   120] train_loss: 1.826, val_loss: 1.648, val_acc: 0.369\n",
      "[1,   240] train_loss: 1.736, val_loss: 1.583, val_acc: 0.393\n",
      "[1,   360] train_loss: 1.696, val_loss: 1.538, val_acc: 0.424\n",
      "[2,   120] train_loss: 1.633, val_loss: 1.491, val_acc: 0.436\n",
      "[2,   240] train_loss: 1.598, val_loss: 1.478, val_acc: 0.437\n",
      "[2,   360] train_loss: 1.573, val_loss: 1.451, val_acc: 0.449\n",
      "[3,   120] train_loss: 1.569, val_loss: 1.410, val_acc: 0.461\n",
      "[3,   240] train_loss: 1.540, val_loss: 1.398, val_acc: 0.468\n",
      "[3,   360] train_loss: 1.536, val_loss: 1.395, val_acc: 0.469\n",
      "[4,   120] train_loss: 1.529, val_loss: 1.389, val_acc: 0.468\n",
      "[4,   240] train_loss: 1.508, val_loss: 1.371, val_acc: 0.478\n",
      "[4,   360] train_loss: 1.508, val_loss: 1.373, val_acc: 0.484\n",
      "[5,   120] train_loss: 1.478, val_loss: 1.356, val_acc: 0.485\n",
      "[5,   240] train_loss: 1.492, val_loss: 1.360, val_acc: 0.481\n",
      "[5,   360] train_loss: 1.497, val_loss: 1.346, val_acc: 0.485\n",
      "[6,   120] train_loss: 1.454, val_loss: 1.328, val_acc: 0.492\n",
      "[6,   240] train_loss: 1.473, val_loss: 1.327, val_acc: 0.492\n",
      "[6,   360] train_loss: 1.451, val_loss: 1.329, val_acc: 0.491\n",
      "[7,   120] train_loss: 1.460, val_loss: 1.315, val_acc: 0.495\n",
      "[7,   240] train_loss: 1.441, val_loss: 1.310, val_acc: 0.503\n",
      "[7,   360] train_loss: 1.448, val_loss: 1.304, val_acc: 0.506\n",
      "[8,   120] train_loss: 1.453, val_loss: 1.299, val_acc: 0.503\n",
      "[8,   240] train_loss: 1.444, val_loss: 1.298, val_acc: 0.510\n",
      "[8,   360] train_loss: 1.439, val_loss: 1.300, val_acc: 0.505\n",
      "[9,   120] train_loss: 1.428, val_loss: 1.289, val_acc: 0.505\n",
      "[9,   240] train_loss: 1.421, val_loss: 1.287, val_acc: 0.504\n",
      "[9,   360] train_loss: 1.422, val_loss: 1.284, val_acc: 0.511\n",
      "[10,   120] train_loss: 1.424, val_loss: 1.270, val_acc: 0.517\n",
      "[10,   240] train_loss: 1.405, val_loss: 1.274, val_acc: 0.519\n",
      "[10,   360] train_loss: 1.418, val_loss: 1.268, val_acc: 0.525\n",
      "[11,   120] train_loss: 1.402, val_loss: 1.260, val_acc: 0.519\n",
      "[11,   240] train_loss: 1.402, val_loss: 1.265, val_acc: 0.514\n",
      "[11,   360] train_loss: 1.415, val_loss: 1.262, val_acc: 0.519\n",
      "[12,   120] train_loss: 1.399, val_loss: 1.253, val_acc: 0.529\n",
      "[12,   240] train_loss: 1.397, val_loss: 1.246, val_acc: 0.534\n",
      "[12,   360] train_loss: 1.394, val_loss: 1.258, val_acc: 0.519\n",
      "[13,   120] train_loss: 1.394, val_loss: 1.245, val_acc: 0.530\n",
      "[13,   240] train_loss: 1.391, val_loss: 1.239, val_acc: 0.529\n",
      "[13,   360] train_loss: 1.395, val_loss: 1.241, val_acc: 0.524\n",
      "[14,   120] train_loss: 1.363, val_loss: 1.243, val_acc: 0.526\n",
      "[14,   240] train_loss: 1.392, val_loss: 1.231, val_acc: 0.529\n",
      "[14,   360] train_loss: 1.377, val_loss: 1.234, val_acc: 0.527\n",
      "[15,   120] train_loss: 1.368, val_loss: 1.235, val_acc: 0.529\n",
      "[15,   240] train_loss: 1.372, val_loss: 1.226, val_acc: 0.532\n",
      "[15,   360] train_loss: 1.379, val_loss: 1.232, val_acc: 0.530\n",
      "[16,   120] train_loss: 1.370, val_loss: 1.231, val_acc: 0.537\n",
      "[16,   240] train_loss: 1.367, val_loss: 1.226, val_acc: 0.532\n",
      "[16,   360] train_loss: 1.362, val_loss: 1.222, val_acc: 0.530\n",
      "[17,   120] train_loss: 1.371, val_loss: 1.215, val_acc: 0.537\n",
      "[17,   240] train_loss: 1.368, val_loss: 1.216, val_acc: 0.536\n",
      "[17,   360] train_loss: 1.350, val_loss: 1.216, val_acc: 0.538\n",
      "[18,   120] train_loss: 1.375, val_loss: 1.212, val_acc: 0.543\n",
      "[18,   240] train_loss: 1.344, val_loss: 1.212, val_acc: 0.541\n",
      "[18,   360] train_loss: 1.360, val_loss: 1.218, val_acc: 0.539\n",
      "[19,   120] train_loss: 1.350, val_loss: 1.211, val_acc: 0.539\n",
      "[19,   240] train_loss: 1.331, val_loss: 1.214, val_acc: 0.540\n",
      "[19,   360] train_loss: 1.371, val_loss: 1.207, val_acc: 0.541\n",
      "[20,   120] train_loss: 1.344, val_loss: 1.217, val_acc: 0.539\n",
      "[20,   240] train_loss: 1.322, val_loss: 1.197, val_acc: 0.547\n",
      "[20,   360] train_loss: 1.360, val_loss: 1.202, val_acc: 0.543\n",
      "[21,   120] train_loss: 1.344, val_loss: 1.201, val_acc: 0.546\n",
      "[21,   240] train_loss: 1.337, val_loss: 1.200, val_acc: 0.547\n",
      "[21,   360] train_loss: 1.339, val_loss: 1.203, val_acc: 0.545\n",
      "[22,   120] train_loss: 1.333, val_loss: 1.192, val_acc: 0.554\n",
      "[22,   240] train_loss: 1.328, val_loss: 1.191, val_acc: 0.551\n",
      "[22,   360] train_loss: 1.344, val_loss: 1.189, val_acc: 0.558\n",
      "[23,   120] train_loss: 1.332, val_loss: 1.187, val_acc: 0.552\n",
      "[23,   240] train_loss: 1.347, val_loss: 1.192, val_acc: 0.549\n",
      "[23,   360] train_loss: 1.317, val_loss: 1.190, val_acc: 0.548\n",
      "[24,   120] train_loss: 1.346, val_loss: 1.184, val_acc: 0.554\n",
      "[24,   240] train_loss: 1.323, val_loss: 1.185, val_acc: 0.551\n",
      "[24,   360] train_loss: 1.323, val_loss: 1.189, val_acc: 0.551\n",
      "[25,   120] train_loss: 1.318, val_loss: 1.197, val_acc: 0.541\n",
      "[25,   240] train_loss: 1.318, val_loss: 1.187, val_acc: 0.549\n",
      "[25,   360] train_loss: 1.327, val_loss: 1.182, val_acc: 0.554\n",
      "[26,   120] train_loss: 1.331, val_loss: 1.187, val_acc: 0.553\n",
      "[26,   240] train_loss: 1.318, val_loss: 1.177, val_acc: 0.560\n",
      "[26,   360] train_loss: 1.321, val_loss: 1.177, val_acc: 0.560\n",
      "[27,   120] train_loss: 1.308, val_loss: 1.175, val_acc: 0.558\n",
      "[27,   240] train_loss: 1.319, val_loss: 1.178, val_acc: 0.563\n",
      "[27,   360] train_loss: 1.316, val_loss: 1.178, val_acc: 0.555\n",
      "[28,   120] train_loss: 1.320, val_loss: 1.176, val_acc: 0.559\n",
      "[28,   240] train_loss: 1.314, val_loss: 1.174, val_acc: 0.559\n",
      "[28,   360] train_loss: 1.298, val_loss: 1.180, val_acc: 0.550\n",
      "[29,   120] train_loss: 1.319, val_loss: 1.169, val_acc: 0.561\n",
      "[29,   240] train_loss: 1.318, val_loss: 1.182, val_acc: 0.548\n",
      "[29,   360] train_loss: 1.327, val_loss: 1.173, val_acc: 0.555\n",
      "[30,   120] train_loss: 1.309, val_loss: 1.170, val_acc: 0.551\n",
      "[30,   240] train_loss: 1.306, val_loss: 1.175, val_acc: 0.553\n",
      "[30,   360] train_loss: 1.297, val_loss: 1.171, val_acc: 0.554\n",
      "[31,   120] train_loss: 1.302, val_loss: 1.172, val_acc: 0.552\n",
      "[31,   240] train_loss: 1.314, val_loss: 1.174, val_acc: 0.556\n",
      "[31,   360] train_loss: 1.304, val_loss: 1.171, val_acc: 0.556\n",
      "[32,   120] train_loss: 1.308, val_loss: 1.174, val_acc: 0.552\n",
      "[32,   240] train_loss: 1.327, val_loss: 1.165, val_acc: 0.558\n",
      "[32,   360] train_loss: 1.294, val_loss: 1.165, val_acc: 0.555\n",
      "[33,   120] train_loss: 1.300, val_loss: 1.161, val_acc: 0.562\n",
      "[33,   240] train_loss: 1.302, val_loss: 1.167, val_acc: 0.553\n",
      "[33,   360] train_loss: 1.307, val_loss: 1.166, val_acc: 0.561\n",
      "[34,   120] train_loss: 1.294, val_loss: 1.170, val_acc: 0.552\n",
      "[34,   240] train_loss: 1.296, val_loss: 1.160, val_acc: 0.563\n",
      "[34,   360] train_loss: 1.295, val_loss: 1.163, val_acc: 0.562\n",
      "[35,   120] train_loss: 1.284, val_loss: 1.165, val_acc: 0.563\n",
      "[35,   240] train_loss: 1.305, val_loss: 1.161, val_acc: 0.560\n",
      "[35,   360] train_loss: 1.310, val_loss: 1.158, val_acc: 0.566\n",
      "[36,   120] train_loss: 1.307, val_loss: 1.158, val_acc: 0.568\n",
      "[36,   240] train_loss: 1.283, val_loss: 1.159, val_acc: 0.565\n",
      "[36,   360] train_loss: 1.298, val_loss: 1.163, val_acc: 0.556\n",
      "[37,   120] train_loss: 1.283, val_loss: 1.157, val_acc: 0.563\n",
      "[37,   240] train_loss: 1.295, val_loss: 1.158, val_acc: 0.558\n",
      "[37,   360] train_loss: 1.282, val_loss: 1.160, val_acc: 0.563\n",
      "[38,   120] train_loss: 1.291, val_loss: 1.156, val_acc: 0.567\n",
      "[38,   240] train_loss: 1.286, val_loss: 1.160, val_acc: 0.561\n",
      "[38,   360] train_loss: 1.319, val_loss: 1.167, val_acc: 0.551\n",
      "[39,   120] train_loss: 1.295, val_loss: 1.157, val_acc: 0.566\n",
      "[39,   240] train_loss: 1.293, val_loss: 1.165, val_acc: 0.559\n",
      "[39,   360] train_loss: 1.300, val_loss: 1.157, val_acc: 0.563\n",
      "[40,   120] train_loss: 1.300, val_loss: 1.146, val_acc: 0.571\n",
      "[40,   240] train_loss: 1.282, val_loss: 1.152, val_acc: 0.566\n",
      "[40,   360] train_loss: 1.264, val_loss: 1.148, val_acc: 0.570\n",
      "[41,   120] train_loss: 1.281, val_loss: 1.143, val_acc: 0.570\n",
      "[41,   240] train_loss: 1.265, val_loss: 1.143, val_acc: 0.573\n",
      "[41,   360] train_loss: 1.292, val_loss: 1.146, val_acc: 0.569\n",
      "[42,   120] train_loss: 1.277, val_loss: 1.140, val_acc: 0.573\n",
      "[42,   240] train_loss: 1.287, val_loss: 1.138, val_acc: 0.572\n",
      "[42,   360] train_loss: 1.270, val_loss: 1.142, val_acc: 0.569\n",
      "[43,   120] train_loss: 1.284, val_loss: 1.141, val_acc: 0.566\n",
      "[43,   240] train_loss: 1.264, val_loss: 1.140, val_acc: 0.568\n",
      "[43,   360] train_loss: 1.254, val_loss: 1.139, val_acc: 0.565\n",
      "[44,   120] train_loss: 1.273, val_loss: 1.143, val_acc: 0.567\n",
      "[44,   240] train_loss: 1.273, val_loss: 1.139, val_acc: 0.569\n",
      "[44,   360] train_loss: 1.267, val_loss: 1.137, val_acc: 0.565\n",
      "[45,   120] train_loss: 1.272, val_loss: 1.139, val_acc: 0.568\n",
      "[45,   240] train_loss: 1.281, val_loss: 1.138, val_acc: 0.567\n",
      "[45,   360] train_loss: 1.273, val_loss: 1.139, val_acc: 0.567\n",
      "[46,   120] train_loss: 1.290, val_loss: 1.141, val_acc: 0.568\n",
      "[46,   240] train_loss: 1.277, val_loss: 1.135, val_acc: 0.571\n",
      "[46,   360] train_loss: 1.256, val_loss: 1.137, val_acc: 0.571\n",
      "[47,   120] train_loss: 1.274, val_loss: 1.141, val_acc: 0.567\n",
      "[47,   240] train_loss: 1.271, val_loss: 1.141, val_acc: 0.566\n",
      "[47,   360] train_loss: 1.267, val_loss: 1.136, val_acc: 0.571\n",
      "[48,   120] train_loss: 1.270, val_loss: 1.140, val_acc: 0.570\n",
      "[48,   240] train_loss: 1.260, val_loss: 1.137, val_acc: 0.570\n",
      "[48,   360] train_loss: 1.280, val_loss: 1.137, val_acc: 0.571\n",
      "[49,   120] train_loss: 1.283, val_loss: 1.134, val_acc: 0.573\n",
      "[49,   240] train_loss: 1.265, val_loss: 1.139, val_acc: 0.569\n",
      "[49,   360] train_loss: 1.273, val_loss: 1.138, val_acc: 0.573\n",
      "[50,   120] train_loss: 1.272, val_loss: 1.138, val_acc: 0.569\n",
      "[50,   240] train_loss: 1.272, val_loss: 1.134, val_acc: 0.573\n",
      "[50,   360] train_loss: 1.277, val_loss: 1.137, val_acc: 0.571\n",
      "[51,   120] train_loss: 1.262, val_loss: 1.133, val_acc: 0.572\n",
      "[51,   240] train_loss: 1.239, val_loss: 1.134, val_acc: 0.571\n",
      "[51,   360] train_loss: 1.259, val_loss: 1.136, val_acc: 0.569\n",
      "[52,   120] train_loss: 1.258, val_loss: 1.133, val_acc: 0.571\n",
      "[52,   240] train_loss: 1.253, val_loss: 1.132, val_acc: 0.574\n",
      "[52,   360] train_loss: 1.247, val_loss: 1.137, val_acc: 0.570\n",
      "[53,   120] train_loss: 1.273, val_loss: 1.131, val_acc: 0.576\n",
      "[53,   240] train_loss: 1.254, val_loss: 1.130, val_acc: 0.575\n",
      "[53,   360] train_loss: 1.245, val_loss: 1.129, val_acc: 0.575\n",
      "[54,   120] train_loss: 1.274, val_loss: 1.130, val_acc: 0.576\n",
      "[54,   240] train_loss: 1.262, val_loss: 1.130, val_acc: 0.573\n",
      "[54,   360] train_loss: 1.242, val_loss: 1.129, val_acc: 0.573\n",
      "[55,   120] train_loss: 1.270, val_loss: 1.132, val_acc: 0.569\n",
      "[55,   240] train_loss: 1.274, val_loss: 1.128, val_acc: 0.573\n",
      "[55,   360] train_loss: 1.259, val_loss: 1.129, val_acc: 0.575\n",
      "[56,   120] train_loss: 1.257, val_loss: 1.129, val_acc: 0.571\n",
      "[56,   240] train_loss: 1.260, val_loss: 1.129, val_acc: 0.576\n",
      "[56,   360] train_loss: 1.253, val_loss: 1.129, val_acc: 0.572\n",
      "[57,   120] train_loss: 1.255, val_loss: 1.126, val_acc: 0.576\n",
      "[57,   240] train_loss: 1.256, val_loss: 1.125, val_acc: 0.577\n",
      "[57,   360] train_loss: 1.271, val_loss: 1.125, val_acc: 0.576\n",
      "[58,   120] train_loss: 1.252, val_loss: 1.126, val_acc: 0.575\n",
      "[58,   240] train_loss: 1.258, val_loss: 1.127, val_acc: 0.573\n",
      "[58,   360] train_loss: 1.263, val_loss: 1.127, val_acc: 0.576\n",
      "[59,   120] train_loss: 1.263, val_loss: 1.127, val_acc: 0.575\n",
      "[59,   240] train_loss: 1.247, val_loss: 1.128, val_acc: 0.572\n",
      "[59,   360] train_loss: 1.243, val_loss: 1.127, val_acc: 0.574\n",
      "[60,   120] train_loss: 1.269, val_loss: 1.128, val_acc: 0.576\n",
      "[60,   240] train_loss: 1.249, val_loss: 1.128, val_acc: 0.573\n",
      "[60,   360] train_loss: 1.239, val_loss: 1.129, val_acc: 0.569\n",
      "[61,   120] train_loss: 1.276, val_loss: 1.125, val_acc: 0.576\n",
      "[61,   240] train_loss: 1.232, val_loss: 1.126, val_acc: 0.573\n",
      "[61,   360] train_loss: 1.267, val_loss: 1.128, val_acc: 0.572\n",
      "[62,   120] train_loss: 1.257, val_loss: 1.126, val_acc: 0.573\n",
      "[62,   240] train_loss: 1.239, val_loss: 1.125, val_acc: 0.575\n",
      "[62,   360] train_loss: 1.251, val_loss: 1.124, val_acc: 0.575\n",
      "[63,   120] train_loss: 1.281, val_loss: 1.125, val_acc: 0.574\n",
      "[63,   240] train_loss: 1.235, val_loss: 1.124, val_acc: 0.574\n",
      "[63,   360] train_loss: 1.249, val_loss: 1.126, val_acc: 0.574\n",
      "[64,   120] train_loss: 1.244, val_loss: 1.130, val_acc: 0.569\n",
      "[64,   240] train_loss: 1.264, val_loss: 1.125, val_acc: 0.574\n",
      "[64,   360] train_loss: 1.252, val_loss: 1.125, val_acc: 0.572\n",
      "[65,   120] train_loss: 1.274, val_loss: 1.123, val_acc: 0.574\n",
      "[65,   240] train_loss: 1.249, val_loss: 1.126, val_acc: 0.573\n",
      "[65,   360] train_loss: 1.250, val_loss: 1.126, val_acc: 0.574\n",
      "[66,   120] train_loss: 1.252, val_loss: 1.123, val_acc: 0.576\n",
      "[66,   240] train_loss: 1.246, val_loss: 1.123, val_acc: 0.576\n",
      "[66,   360] train_loss: 1.263, val_loss: 1.125, val_acc: 0.573\n",
      "[67,   120] train_loss: 1.262, val_loss: 1.124, val_acc: 0.574\n",
      "[67,   240] train_loss: 1.247, val_loss: 1.124, val_acc: 0.576\n",
      "[67,   360] train_loss: 1.225, val_loss: 1.124, val_acc: 0.573\n",
      "[68,   120] train_loss: 1.248, val_loss: 1.123, val_acc: 0.575\n",
      "[68,   240] train_loss: 1.262, val_loss: 1.123, val_acc: 0.576\n",
      "[68,   360] train_loss: 1.215, val_loss: 1.123, val_acc: 0.578\n",
      "[69,   120] train_loss: 1.255, val_loss: 1.123, val_acc: 0.576\n",
      "[69,   240] train_loss: 1.255, val_loss: 1.124, val_acc: 0.574\n",
      "[69,   360] train_loss: 1.251, val_loss: 1.123, val_acc: 0.574\n",
      "[70,   120] train_loss: 1.234, val_loss: 1.122, val_acc: 0.575\n",
      "[70,   240] train_loss: 1.237, val_loss: 1.121, val_acc: 0.576\n",
      "[70,   360] train_loss: 1.241, val_loss: 1.121, val_acc: 0.577\n",
      "[71,   120] train_loss: 1.248, val_loss: 1.123, val_acc: 0.576\n",
      "[71,   240] train_loss: 1.254, val_loss: 1.124, val_acc: 0.574\n",
      "[71,   360] train_loss: 1.246, val_loss: 1.124, val_acc: 0.575\n",
      "[72,   120] train_loss: 1.251, val_loss: 1.123, val_acc: 0.575\n",
      "[72,   240] train_loss: 1.254, val_loss: 1.122, val_acc: 0.577\n",
      "[72,   360] train_loss: 1.241, val_loss: 1.122, val_acc: 0.576\n",
      "[73,   120] train_loss: 1.268, val_loss: 1.124, val_acc: 0.575\n",
      "[73,   240] train_loss: 1.236, val_loss: 1.121, val_acc: 0.578\n",
      "[73,   360] train_loss: 1.242, val_loss: 1.121, val_acc: 0.578\n",
      "[74,   120] train_loss: 1.267, val_loss: 1.123, val_acc: 0.577\n",
      "[74,   240] train_loss: 1.252, val_loss: 1.122, val_acc: 0.576\n",
      "[74,   360] train_loss: 1.228, val_loss: 1.122, val_acc: 0.575\n",
      "[75,   120] train_loss: 1.257, val_loss: 1.122, val_acc: 0.575\n",
      "[75,   240] train_loss: 1.247, val_loss: 1.123, val_acc: 0.576\n",
      "[75,   360] train_loss: 1.238, val_loss: 1.123, val_acc: 0.573\n",
      "[76,   120] train_loss: 1.235, val_loss: 1.124, val_acc: 0.572\n",
      "[76,   240] train_loss: 1.258, val_loss: 1.122, val_acc: 0.576\n",
      "[76,   360] train_loss: 1.225, val_loss: 1.122, val_acc: 0.576\n",
      "[77,   120] train_loss: 1.249, val_loss: 1.121, val_acc: 0.577\n",
      "[77,   240] train_loss: 1.244, val_loss: 1.123, val_acc: 0.572\n",
      "[77,   360] train_loss: 1.257, val_loss: 1.121, val_acc: 0.577\n",
      "[78,   120] train_loss: 1.252, val_loss: 1.122, val_acc: 0.575\n",
      "[78,   240] train_loss: 1.255, val_loss: 1.121, val_acc: 0.574\n",
      "[78,   360] train_loss: 1.244, val_loss: 1.122, val_acc: 0.575\n",
      "[79,   120] train_loss: 1.247, val_loss: 1.121, val_acc: 0.576\n",
      "[79,   240] train_loss: 1.243, val_loss: 1.122, val_acc: 0.574\n",
      "[79,   360] train_loss: 1.243, val_loss: 1.121, val_acc: 0.578\n",
      "[80,   120] train_loss: 1.240, val_loss: 1.121, val_acc: 0.577\n",
      "[80,   240] train_loss: 1.254, val_loss: 1.121, val_acc: 0.577\n",
      "[80,   360] train_loss: 1.246, val_loss: 1.122, val_acc: 0.576\n",
      "[81,   120] train_loss: 1.251, val_loss: 1.123, val_acc: 0.576\n",
      "[81,   240] train_loss: 1.261, val_loss: 1.122, val_acc: 0.573\n",
      "[81,   360] train_loss: 1.235, val_loss: 1.122, val_acc: 0.574\n",
      "[82,   120] train_loss: 1.247, val_loss: 1.122, val_acc: 0.574\n",
      "[82,   240] train_loss: 1.245, val_loss: 1.122, val_acc: 0.575\n",
      "[82,   360] train_loss: 1.244, val_loss: 1.122, val_acc: 0.574\n",
      "[83,   120] train_loss: 1.256, val_loss: 1.122, val_acc: 0.574\n",
      "[83,   240] train_loss: 1.255, val_loss: 1.123, val_acc: 0.575\n",
      "[83,   360] train_loss: 1.233, val_loss: 1.122, val_acc: 0.574\n",
      "[84,   120] train_loss: 1.261, val_loss: 1.121, val_acc: 0.575\n",
      "[84,   240] train_loss: 1.251, val_loss: 1.122, val_acc: 0.575\n",
      "[84,   360] train_loss: 1.245, val_loss: 1.121, val_acc: 0.574\n",
      "[85,   120] train_loss: 1.253, val_loss: 1.122, val_acc: 0.575\n",
      "[85,   240] train_loss: 1.252, val_loss: 1.121, val_acc: 0.576\n",
      "[85,   360] train_loss: 1.247, val_loss: 1.122, val_acc: 0.574\n",
      "[86,   120] train_loss: 1.237, val_loss: 1.123, val_acc: 0.572\n",
      "[86,   240] train_loss: 1.263, val_loss: 1.120, val_acc: 0.576\n",
      "[86,   360] train_loss: 1.259, val_loss: 1.122, val_acc: 0.574\n",
      "[87,   120] train_loss: 1.239, val_loss: 1.121, val_acc: 0.575\n",
      "[87,   240] train_loss: 1.250, val_loss: 1.122, val_acc: 0.575\n",
      "[87,   360] train_loss: 1.277, val_loss: 1.122, val_acc: 0.575\n",
      "[88,   120] train_loss: 1.259, val_loss: 1.122, val_acc: 0.575\n",
      "[88,   240] train_loss: 1.247, val_loss: 1.122, val_acc: 0.575\n",
      "[88,   360] train_loss: 1.247, val_loss: 1.121, val_acc: 0.575\n",
      "[89,   120] train_loss: 1.257, val_loss: 1.122, val_acc: 0.576\n",
      "[89,   240] train_loss: 1.237, val_loss: 1.120, val_acc: 0.576\n",
      "[89,   360] train_loss: 1.246, val_loss: 1.121, val_acc: 0.576\n",
      "[90,   120] train_loss: 1.266, val_loss: 1.121, val_acc: 0.575\n",
      "[90,   240] train_loss: 1.239, val_loss: 1.121, val_acc: 0.576\n",
      "[90,   360] train_loss: 1.256, val_loss: 1.122, val_acc: 0.574\n",
      "[91,   120] train_loss: 1.236, val_loss: 1.121, val_acc: 0.574\n",
      "[91,   240] train_loss: 1.253, val_loss: 1.121, val_acc: 0.573\n",
      "[91,   360] train_loss: 1.243, val_loss: 1.122, val_acc: 0.575\n",
      "[92,   120] train_loss: 1.259, val_loss: 1.122, val_acc: 0.574\n",
      "[92,   240] train_loss: 1.243, val_loss: 1.122, val_acc: 0.575\n",
      "[92,   360] train_loss: 1.246, val_loss: 1.122, val_acc: 0.575\n",
      "[93,   120] train_loss: 1.227, val_loss: 1.122, val_acc: 0.573\n",
      "[93,   240] train_loss: 1.253, val_loss: 1.121, val_acc: 0.576\n",
      "[93,   360] train_loss: 1.252, val_loss: 1.122, val_acc: 0.575\n",
      "[94,   120] train_loss: 1.268, val_loss: 1.121, val_acc: 0.576\n",
      "[94,   240] train_loss: 1.240, val_loss: 1.122, val_acc: 0.575\n",
      "[94,   360] train_loss: 1.239, val_loss: 1.121, val_acc: 0.576\n",
      "[95,   120] train_loss: 1.246, val_loss: 1.121, val_acc: 0.577\n",
      "[95,   240] train_loss: 1.254, val_loss: 1.121, val_acc: 0.575\n",
      "[95,   360] train_loss: 1.243, val_loss: 1.122, val_acc: 0.573\n",
      "[96,   120] train_loss: 1.233, val_loss: 1.122, val_acc: 0.575\n",
      "[96,   240] train_loss: 1.245, val_loss: 1.121, val_acc: 0.576\n",
      "[96,   360] train_loss: 1.259, val_loss: 1.122, val_acc: 0.575\n",
      "[97,   120] train_loss: 1.247, val_loss: 1.122, val_acc: 0.575\n",
      "[97,   240] train_loss: 1.253, val_loss: 1.122, val_acc: 0.574\n",
      "[97,   360] train_loss: 1.252, val_loss: 1.121, val_acc: 0.574\n",
      "[98,   120] train_loss: 1.242, val_loss: 1.121, val_acc: 0.575\n",
      "[98,   240] train_loss: 1.243, val_loss: 1.121, val_acc: 0.576\n",
      "[98,   360] train_loss: 1.260, val_loss: 1.121, val_acc: 0.574\n",
      "[99,   120] train_loss: 1.240, val_loss: 1.122, val_acc: 0.576\n",
      "[99,   240] train_loss: 1.254, val_loss: 1.121, val_acc: 0.576\n",
      "[99,   360] train_loss: 1.240, val_loss: 1.121, val_acc: 0.576\n",
      "[100,   120] train_loss: 1.256, val_loss: 1.121, val_acc: 0.577\n",
      "[100,   240] train_loss: 1.233, val_loss: 1.121, val_acc: 0.577\n",
      "[100,   360] train_loss: 1.246, val_loss: 1.121, val_acc: 0.575\n",
      "Finished training\n"
     ]
    },
    {
     "data": {
      "image/png": "[encoded data removed]",
      "text/plain": [
       "<Figure size 432x288 with 1 Axes>"
      ]
     },
     "metadata": {
      "needs_background": "light",
      "tags": []
     },
     "output_type": "display_data"
    }
   ],
   "source": [
    "train_net(net, trainloader, valloader, criterion, optimizer, device, \n",
    "          num_epochs=100, lr_scheduler=scheduler, eval_period=120)"
   ]
  },
  {
   "cell_type": "code",
   "execution_count": 0,
   "metadata": {
    "colab": {},
    "colab_type": "code",
    "id": "MRLdPNFXrgFe"
   },
   "outputs": [],
   "source": [
    "Path('weights').mkdir(exist_ok=True)\n",
    "PATH = 'weights/custom_net.pth'\n",
    "torch.save(net.state_dict(), PATH)"
   ]
  },
  {
   "cell_type": "markdown",
   "metadata": {
    "colab_type": "text",
    "id": "ILFPw1zArgFk"
   },
   "source": [
    "### Evaluating"
   ]
  },
  {
   "cell_type": "code",
   "execution_count": 11,
   "metadata": {
    "colab": {
     "base_uri": "https://localhost:8080/",
     "height": 35
    },
    "colab_type": "code",
    "id": "4jk1d2uUrgFl",
    "outputId": "4c661442-c3ea-4638-c7f6-5eaf6649ce51"
   },
   "outputs": [
    {
     "data": {
      "text/plain": [
       "device(type='cuda', index=0)"
      ]
     },
     "execution_count": 11,
     "metadata": {
      "tags": []
     },
     "output_type": "execute_result"
    }
   ],
   "source": [
    "device = torch.device(\"cuda:0\" if torch.cuda.is_available() else \"cpu\")\n",
    "device"
   ]
  },
  {
   "cell_type": "code",
   "execution_count": 12,
   "metadata": {
    "colab": {
     "base_uri": "https://localhost:8080/",
     "height": 229
    },
    "colab_type": "code",
    "id": "XicoqsnCrgFq",
    "outputId": "d08804eb-8d6e-438b-f719-3a90bcd4d8e2"
   },
   "outputs": [
    {
     "data": {
      "text/plain": [
       "CustomNet(\n",
       "  (conv1): Conv2d(1, 6, kernel_size=(3, 3), stride=(1, 1))\n",
       "  (bn1): BatchNorm2d(6, eps=1e-05, momentum=0.1, affine=True, track_running_stats=True)\n",
       "  (conv2): Conv2d(6, 18, kernel_size=(3, 3), stride=(1, 1))\n",
       "  (bn2): BatchNorm2d(18, eps=1e-05, momentum=0.1, affine=True, track_running_stats=True)\n",
       "  (pool): MaxPool2d(kernel_size=2, stride=2, padding=0, dilation=1, ceil_mode=False)\n",
       "  (conv3): Conv2d(18, 36, kernel_size=(3, 3), stride=(1, 1))\n",
       "  (bn3): BatchNorm2d(36, eps=1e-05, momentum=0.1, affine=True, track_running_stats=True)\n",
       "  (dropout): Dropout(p=0.5, inplace=False)\n",
       "  (fc1): Linear(in_features=3600, out_features=100, bias=True)\n",
       "  (fc2): Linear(in_features=100, out_features=7, bias=True)\n",
       ")"
      ]
     },
     "execution_count": 12,
     "metadata": {
      "tags": []
     },
     "output_type": "execute_result"
    }
   ],
   "source": [
    "net = CustomNet()\n",
    "net.load_state_dict(torch.load(PATH))\n",
    "net.to(device)\n",
    "net.eval()"
   ]
  },
  {
   "cell_type": "code",
   "execution_count": 0,
   "metadata": {
    "colab": {},
    "colab_type": "code",
    "id": "SGN3x_PirgFv"
   },
   "outputs": [],
   "source": [
    "testset = torchvision.datasets.ImageFolder(root='./data/test', transform=transform)\n",
    "testloader = torch.utils.data.DataLoader(valset, batch_size=4,\n",
    "                                          shuffle=False, num_workers=2)"
   ]
  },
  {
   "cell_type": "code",
   "execution_count": 14,
   "metadata": {
    "colab": {
     "base_uri": "https://localhost:8080/",
     "height": 35
    },
    "colab_type": "code",
    "id": "VkfP6InGrgF0",
    "outputId": "260bb1a8-fa25-4cca-b77b-834a69903138"
   },
   "outputs": [
    {
     "name": "stdout",
     "output_type": "stream",
     "text": [
      "Accuracy of the network on test images: 57 %\n"
     ]
    }
   ],
   "source": [
    "correct = 0\n",
    "total = 0\n",
    "with torch.no_grad():\n",
    "    for data in testloader:\n",
    "        images, labels = data[0].to(device), data[1].to(device)\n",
    "        outputs = net(images)\n",
    "        _, predicted = torch.max(outputs.data, 1)\n",
    "        total += labels.size(0)\n",
    "        correct += (predicted == labels).sum().item()\n",
    "\n",
    "print('Accuracy of the network on test images: %d %%' % (\n",
    "    100 * correct / total))"
   ]
  },
  {
   "cell_type": "code",
   "execution_count": 35,
   "metadata": {
    "colab": {
     "base_uri": "https://localhost:8080/",
     "height": 141
    },
    "colab_type": "code",
    "id": "eWRReA5KbykQ",
    "outputId": "3abb67cb-500a-4dde-ccb5-686aef73f5f0"
   },
   "outputs": [
    {
     "name": "stdout",
     "output_type": "stream",
     "text": [
      "Accuracy of angry : 42 %\n",
      "Accuracy of disgust : 25 %\n",
      "Accuracy of  fear : 23 %\n",
      "Accuracy of happy : 83 %\n",
      "Accuracy of   sad : 50 %\n",
      "Accuracy of surprise : 75 %\n",
      "Accuracy of neutral : 57 %\n"
     ]
    }
   ],
   "source": [
    "class_correct = [0. for i in range(len(CLASSES))]\n",
    "class_total = [0. for i in range(len(CLASSES))]\n",
    "with torch.no_grad():\n",
    "    for data in testloader:\n",
    "        images, labels = data[0].to(device), data[1].to(device)\n",
    "        outputs = net(images)\n",
    "        _, predicted = torch.max(outputs, 1)\n",
    "        c = (predicted == labels).reshape(1, -1)\n",
    "        for i in range(c.size()[1]):\n",
    "            label = labels[i].item()\n",
    "            class_correct[label] += c[0, i].item()\n",
    "            class_total[label] += 1\n",
    "\n",
    "\n",
    "for i in range(len(CLASSES)):\n",
    "    print('Accuracy of %5s : %2d %%' % (\n",
    "        CLASSES[i], 100 * class_correct[i] / class_total[i]))"
   ]
  },
  {
   "cell_type": "code",
   "execution_count": 0,
   "metadata": {
    "colab": {},
    "colab_type": "code",
    "id": "7O8QHFAKdlAT"
   },
   "outputs": [],
   "source": []
  }
 ],
 "metadata": {
  "accelerator": "GPU",
  "colab": {
   "collapsed_sections": [],
   "name": "train.ipynb",
   "provenance": []
  },
  "kernelspec": {
   "display_name": "Python 3",
   "language": "python",
   "name": "python3"
  },
  "language_info": {
   "codemirror_mode": {
    "name": "ipython",
    "version": 3
   },
   "file_extension": ".py",
   "mimetype": "text/x-python",
   "name": "python",
   "nbconvert_exporter": "python",
   "pygments_lexer": "ipython3",
   "version": "3.8.1"
  }
 },
 "nbformat": 4,
 "nbformat_minor": 1
}
