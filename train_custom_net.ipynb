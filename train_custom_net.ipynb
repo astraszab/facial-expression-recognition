{
  "nbformat": 4,
  "nbformat_minor": 0,
  "metadata": {
    "accelerator": "GPU",
    "colab": {
      "name": "train.ipynb",
      "provenance": [],
      "collapsed_sections": []
    },
    "kernelspec": {
      "name": "python3",
      "display_name": "Python 3"
    },
    "language_info": {
      "codemirror_mode": {
        "name": "ipython",
        "version": 3
      },
      "file_extension": ".py",
      "mimetype": "text/x-python",
      "name": "python",
      "nbconvert_exporter": "python",
      "pygments_lexer": "ipython3",
      "version": "3.8.1"
    }
  },
  "cells": [
    {
      "cell_type": "code",
      "metadata": {
        "colab_type": "code",
        "id": "ri-ZOOgSrgER",
        "colab": {}
      },
      "source": [
        "import torch\n",
        "import torchvision\n",
        "import torchvision.transforms as transforms\n",
        "import torch.nn as nn\n",
        "import torch.nn.functional as F\n",
        "import torch.optim as optim\n",
        "import matplotlib.pyplot as plt\n",
        "\n",
        "from constants import CLASSES\n",
        "from pathlib import Path\n",
        "from utils import train_net"
      ],
      "execution_count": 0,
      "outputs": []
    },
    {
      "cell_type": "code",
      "metadata": {
        "colab_type": "code",
        "id": "oF4VoWEjrgEd",
        "outputId": "f08e0736-1fd8-4561-be4a-e832858e9495",
        "colab": {
          "base_uri": "https://localhost:8080/",
          "height": 320
        }
      },
      "source": [
        "# for colab\n",
        "!wget -x --load-cookies cookies.txt \"https://www.kaggle.com/deadskull7/fer2013/download\" -O fer2013.zip\n",
        "!python unpack_data.py"
      ],
      "execution_count": 2,
      "outputs": [
        {
          "output_type": "stream",
          "text": [
            "--2020-04-11 15:03:33--  https://www.kaggle.com/deadskull7/fer2013/download\n",
            "Resolving www.kaggle.com (www.kaggle.com)... 35.244.233.98\n",
            "Connecting to www.kaggle.com (www.kaggle.com)|35.244.233.98|:443... connected.\n",
            "HTTP request sent, awaiting response... 302 Found\n",
            "Location: https://storage.googleapis.com/kaggle-data-sets/28577/36420/bundle/archive.zip?GoogleAccessId=web-data@kaggle-161607.iam.gserviceaccount.com&Expires=1586876613&Signature=kZd4G%2FkLp1wC9VrYOp2nK7ZQaKklintswcLBvQ1rOxmrry6VbVwcVSPrQX5BqD7d3byHTR%2BrE7N26llDLJz81U8WJ0b%2F1cNKuvWie8Frk%2F9aBCAC9JsVYSUr%2B%2ByzIYL7VtMODCtS5vU0k2%2Fd2CIe2dZbSZKPgD2RMkphbAC6tWtwGCBIiX4z%2FQ77ZjfFzfJzcrnpxTPObF8AAM2ARut2iVDxZADT1CF4x5qSn2CaSZIvozNgRqYmwo002TFVJlD4ROEqTpmBNNLUqdmh35L7nQAsvaVFPBOQheTC8OAunr%2BqHBCXvCXMG2pjh29tQOYYTVxkl6lNZGuwLDnHHs0fgg%3D%3D&response-content-disposition=attachment%3B+filename%3Dfer2013.zip [following]\n",
            "--2020-04-11 15:03:33--  https://storage.googleapis.com/kaggle-data-sets/28577/36420/bundle/archive.zip?GoogleAccessId=web-data@kaggle-161607.iam.gserviceaccount.com&Expires=1586876613&Signature=kZd4G%2FkLp1wC9VrYOp2nK7ZQaKklintswcLBvQ1rOxmrry6VbVwcVSPrQX5BqD7d3byHTR%2BrE7N26llDLJz81U8WJ0b%2F1cNKuvWie8Frk%2F9aBCAC9JsVYSUr%2B%2ByzIYL7VtMODCtS5vU0k2%2Fd2CIe2dZbSZKPgD2RMkphbAC6tWtwGCBIiX4z%2FQ77ZjfFzfJzcrnpxTPObF8AAM2ARut2iVDxZADT1CF4x5qSn2CaSZIvozNgRqYmwo002TFVJlD4ROEqTpmBNNLUqdmh35L7nQAsvaVFPBOQheTC8OAunr%2BqHBCXvCXMG2pjh29tQOYYTVxkl6lNZGuwLDnHHs0fgg%3D%3D&response-content-disposition=attachment%3B+filename%3Dfer2013.zip\n",
            "Resolving storage.googleapis.com (storage.googleapis.com)... 74.125.133.128, 2a00:1450:400c:c0c::80\n",
            "Connecting to storage.googleapis.com (storage.googleapis.com)|74.125.133.128|:443... connected.\n",
            "HTTP request sent, awaiting response... 200 OK\n",
            "Length: 101279992 (97M) [application/zip]\n",
            "Saving to: ‘fer2013.zip’\n",
            "\n",
            "fer2013.zip         100%[===================>]  96.59M  49.5MB/s    in 2.0s    \n",
            "\n",
            "2020-04-11 15:03:36 (49.5 MB/s) - ‘fer2013.zip’ saved [101279992/101279992]\n",
            "\n"
          ],
          "name": "stdout"
        }
      ]
    },
    {
      "cell_type": "code",
      "metadata": {
        "colab_type": "code",
        "id": "7SvkauuMrgEq",
        "outputId": "114fe9a4-09c3-48c0-86e6-d8a28d51d40d",
        "colab": {
          "base_uri": "https://localhost:8080/",
          "height": 35
        }
      },
      "source": [
        "device = torch.device(\"cuda:0\" if torch.cuda.is_available() else \"cpu\")\n",
        "device"
      ],
      "execution_count": 3,
      "outputs": [
        {
          "output_type": "execute_result",
          "data": {
            "text/plain": [
              "device(type='cuda', index=0)"
            ]
          },
          "metadata": {
            "tags": []
          },
          "execution_count": 3
        }
      ]
    },
    {
      "cell_type": "code",
      "metadata": {
        "colab_type": "code",
        "id": "Hhud9JVcrgE0",
        "colab": {}
      },
      "source": [
        "transform = transforms.Compose(\n",
        "    [transforms.Grayscale(),\n",
        "     transforms.ToTensor(),\n",
        "     transforms.Normalize((0.5,), (0.5,))])\n",
        "\n",
        "transform_augment = transforms.Compose(\n",
        "    [\n",
        "     transforms.Grayscale(),\n",
        "     transforms.RandomHorizontalFlip(),\n",
        "     transforms.ColorJitter(brightness=0.2),\n",
        "     transforms.RandomAffine(15, translate=(0.05, 0.05), scale=(0.9, 1.1)),\n",
        "     transforms.ToTensor(),\n",
        "     transforms.Normalize((0.5,), (0.5,)),\n",
        "    ]\n",
        ")"
      ],
      "execution_count": 0,
      "outputs": []
    },
    {
      "cell_type": "code",
      "metadata": {
        "colab_type": "code",
        "id": "Jaq_5bzErgE7",
        "colab": {}
      },
      "source": [
        "trainset = torchvision.datasets.ImageFolder(root='./data/train', transform=transform_augment)\n",
        "trainloader = torch.utils.data.DataLoader(trainset, batch_size=64,\n",
        "                                          shuffle=True, num_workers=2)"
      ],
      "execution_count": 0,
      "outputs": []
    },
    {
      "cell_type": "code",
      "metadata": {
        "colab_type": "code",
        "id": "swTEblDBrgFC",
        "colab": {}
      },
      "source": [
        "valset = torchvision.datasets.ImageFolder(root='./data/val', transform=transform)\n",
        "valloader = torch.utils.data.DataLoader(valset, batch_size=4,\n",
        "                                          shuffle=False, num_workers=2)"
      ],
      "execution_count": 0,
      "outputs": []
    },
    {
      "cell_type": "code",
      "metadata": {
        "colab_type": "code",
        "id": "vqAfCg5brgFI",
        "colab": {}
      },
      "source": [
        "class CustomNet(nn.Module):\n",
        "    def __init__(self):\n",
        "        super(CustomNet, self).__init__()\n",
        "        self.conv1 = nn.Conv2d(1, 6, 3, bias=False)\n",
        "        self.bn1 = nn.BatchNorm2d(6)\n",
        "        self.conv2 = nn.Conv2d(6, 18, 3, bias=False)\n",
        "        self.bn2 = nn.BatchNorm2d(18)\n",
        "        self.pool = nn.MaxPool2d(2)\n",
        "        self.conv3 = nn.Conv2d(18, 36, 3, bias=False)\n",
        "        self.bn3 = nn.BatchNorm2d(36)\n",
        "        self.dropout = nn.Dropout(p=0.5)\n",
        "        self.fc1 = nn.Linear(36 * 10 * 10, 100)\n",
        "        self.fc2 = nn.Linear(100, 7)\n",
        "        \n",
        "    def forward(self, x):\n",
        "        x = F.relu(self.conv1(x))\n",
        "        x = self.bn1(x)\n",
        "        x = self.pool(F.relu(self.conv2(x)))\n",
        "        x = self.bn2(x)\n",
        "        x = self.pool(F.relu(self.conv3(x)))\n",
        "        x = self.bn3(x)\n",
        "        x = x.view(-1, 36 * 10 * 10)\n",
        "        x = self.dropout(x)\n",
        "        x = torch.tanh(self.fc1(x))\n",
        "        x = self.dropout(x)\n",
        "        x = self.fc2(x)\n",
        "        return x"
      ],
      "execution_count": 0,
      "outputs": []
    },
    {
      "cell_type": "code",
      "metadata": {
        "colab_type": "code",
        "id": "am5YXL2MrgFO",
        "colab": {}
      },
      "source": [
        "net = CustomNet()"
      ],
      "execution_count": 0,
      "outputs": []
    },
    {
      "cell_type": "code",
      "metadata": {
        "colab_type": "code",
        "id": "HlwKBvy8rgFS",
        "colab": {}
      },
      "source": [
        "criterion = nn.CrossEntropyLoss()\n",
        "optimizer = optim.Adam(net.parameters(), lr=3e-4)\n",
        "scheduler = optim.lr_scheduler.ReduceLROnPlateau(optimizer, factor=0.5, patience=3, threshold=0.001)\n",
        "#scheduler = optim.lr_scheduler.CyclicLR(optimizer, base_lr=3e-4, max_lr=1e-3, cycle_momentum=False, step_size_up=449)"
      ],
      "execution_count": 0,
      "outputs": []
    },
    {
      "cell_type": "code",
      "metadata": {
        "colab_type": "code",
        "id": "yYwlasDYrgFY",
        "outputId": "5a42a548-a41c-4d5a-c4c3-a9918e743990",
        "colab": {
          "base_uri": "https://localhost:8080/",
          "height": 1000
        }
      },
      "source": [
        "train_net(net, trainloader, valloader, criterion, optimizer, device, \n",
        "          num_epochs=100, lr_scheduler=scheduler, eval_period=len(trainloader))"
      ],
      "execution_count": 11,
      "outputs": [
        {
          "output_type": "stream",
          "text": [
            "[1,   449] train_loss: 1.415, val_loss: 1.278, val_acc: 0.511\n",
            "[2,   449] train_loss: 1.405, val_loss: 1.275, val_acc: 0.512\n",
            "[3,   449] train_loss: 1.402, val_loss: 1.268, val_acc: 0.513\n",
            "[4,   449] train_loss: 1.392, val_loss: 1.251, val_acc: 0.527\n",
            "[5,   449] train_loss: 1.391, val_loss: 1.260, val_acc: 0.518\n",
            "[6,   449] train_loss: 1.376, val_loss: 1.238, val_acc: 0.526\n",
            "[7,   449] train_loss: 1.376, val_loss: 1.234, val_acc: 0.536\n",
            "[8,   449] train_loss: 1.362, val_loss: 1.226, val_acc: 0.536\n",
            "[9,   449] train_loss: 1.363, val_loss: 1.228, val_acc: 0.533\n",
            "[10,   449] train_loss: 1.354, val_loss: 1.226, val_acc: 0.534\n",
            "[11,   449] train_loss: 1.351, val_loss: 1.222, val_acc: 0.539\n",
            "[12,   449] train_loss: 1.350, val_loss: 1.208, val_acc: 0.543\n",
            "[13,   449] train_loss: 1.349, val_loss: 1.209, val_acc: 0.540\n",
            "[14,   449] train_loss: 1.343, val_loss: 1.206, val_acc: 0.544\n",
            "[15,   449] train_loss: 1.338, val_loss: 1.202, val_acc: 0.541\n",
            "[16,   449] train_loss: 1.339, val_loss: 1.199, val_acc: 0.541\n",
            "[17,   449] train_loss: 1.326, val_loss: 1.193, val_acc: 0.544\n",
            "[18,   449] train_loss: 1.330, val_loss: 1.194, val_acc: 0.549\n",
            "[19,   449] train_loss: 1.324, val_loss: 1.191, val_acc: 0.548\n",
            "[20,   449] train_loss: 1.321, val_loss: 1.199, val_acc: 0.546\n",
            "[21,   449] train_loss: 1.324, val_loss: 1.181, val_acc: 0.554\n",
            "[22,   449] train_loss: 1.316, val_loss: 1.181, val_acc: 0.550\n",
            "[23,   449] train_loss: 1.309, val_loss: 1.182, val_acc: 0.548\n",
            "[24,   449] train_loss: 1.312, val_loss: 1.186, val_acc: 0.541\n",
            "[25,   449] train_loss: 1.311, val_loss: 1.181, val_acc: 0.552\n",
            "[26,   449] train_loss: 1.306, val_loss: 1.175, val_acc: 0.553\n",
            "[27,   449] train_loss: 1.298, val_loss: 1.173, val_acc: 0.550\n",
            "[28,   449] train_loss: 1.289, val_loss: 1.172, val_acc: 0.554\n",
            "[29,   449] train_loss: 1.292, val_loss: 1.165, val_acc: 0.551\n",
            "[30,   449] train_loss: 1.291, val_loss: 1.165, val_acc: 0.554\n",
            "[31,   449] train_loss: 1.289, val_loss: 1.163, val_acc: 0.558\n",
            "[32,   449] train_loss: 1.287, val_loss: 1.171, val_acc: 0.553\n",
            "[33,   449] train_loss: 1.283, val_loss: 1.166, val_acc: 0.556\n",
            "[34,   449] train_loss: 1.281, val_loss: 1.159, val_acc: 0.559\n",
            "[35,   449] train_loss: 1.282, val_loss: 1.156, val_acc: 0.566\n",
            "[36,   449] train_loss: 1.284, val_loss: 1.157, val_acc: 0.558\n",
            "[37,   449] train_loss: 1.279, val_loss: 1.152, val_acc: 0.560\n",
            "[38,   449] train_loss: 1.281, val_loss: 1.154, val_acc: 0.560\n",
            "[39,   449] train_loss: 1.279, val_loss: 1.155, val_acc: 0.562\n",
            "[40,   449] train_loss: 1.272, val_loss: 1.152, val_acc: 0.558\n",
            "[41,   449] train_loss: 1.272, val_loss: 1.152, val_acc: 0.560\n",
            "[42,   449] train_loss: 1.276, val_loss: 1.146, val_acc: 0.562\n",
            "[43,   449] train_loss: 1.275, val_loss: 1.148, val_acc: 0.563\n",
            "[44,   449] train_loss: 1.273, val_loss: 1.146, val_acc: 0.563\n",
            "[45,   449] train_loss: 1.274, val_loss: 1.143, val_acc: 0.561\n",
            "[46,   449] train_loss: 1.267, val_loss: 1.144, val_acc: 0.564\n",
            "[47,   449] train_loss: 1.270, val_loss: 1.143, val_acc: 0.564\n",
            "[48,   449] train_loss: 1.271, val_loss: 1.144, val_acc: 0.565\n",
            "[49,   449] train_loss: 1.265, val_loss: 1.141, val_acc: 0.564\n",
            "[50,   449] train_loss: 1.266, val_loss: 1.140, val_acc: 0.565\n",
            "[51,   449] train_loss: 1.272, val_loss: 1.140, val_acc: 0.566\n",
            "[52,   449] train_loss: 1.262, val_loss: 1.142, val_acc: 0.563\n",
            "[53,   449] train_loss: 1.267, val_loss: 1.137, val_acc: 0.565\n",
            "[54,   449] train_loss: 1.263, val_loss: 1.138, val_acc: 0.568\n",
            "[55,   449] train_loss: 1.257, val_loss: 1.136, val_acc: 0.569\n",
            "[56,   449] train_loss: 1.262, val_loss: 1.140, val_acc: 0.567\n",
            "[57,   449] train_loss: 1.263, val_loss: 1.136, val_acc: 0.570\n",
            "[58,   449] train_loss: 1.262, val_loss: 1.138, val_acc: 0.565\n",
            "[59,   449] train_loss: 1.259, val_loss: 1.135, val_acc: 0.571\n",
            "[60,   449] train_loss: 1.259, val_loss: 1.135, val_acc: 0.571\n",
            "[61,   449] train_loss: 1.258, val_loss: 1.135, val_acc: 0.569\n",
            "[62,   449] train_loss: 1.257, val_loss: 1.136, val_acc: 0.566\n",
            "[63,   449] train_loss: 1.261, val_loss: 1.137, val_acc: 0.570\n",
            "[64,   449] train_loss: 1.257, val_loss: 1.134, val_acc: 0.568\n",
            "[65,   449] train_loss: 1.258, val_loss: 1.135, val_acc: 0.573\n",
            "[66,   449] train_loss: 1.255, val_loss: 1.133, val_acc: 0.571\n",
            "[67,   449] train_loss: 1.252, val_loss: 1.133, val_acc: 0.569\n",
            "[68,   449] train_loss: 1.258, val_loss: 1.134, val_acc: 0.571\n",
            "[69,   449] train_loss: 1.252, val_loss: 1.131, val_acc: 0.569\n",
            "[70,   449] train_loss: 1.252, val_loss: 1.131, val_acc: 0.568\n",
            "[71,   449] train_loss: 1.254, val_loss: 1.132, val_acc: 0.568\n",
            "[72,   449] train_loss: 1.255, val_loss: 1.131, val_acc: 0.566\n",
            "[73,   449] train_loss: 1.256, val_loss: 1.132, val_acc: 0.571\n",
            "[74,   449] train_loss: 1.253, val_loss: 1.130, val_acc: 0.570\n",
            "[75,   449] train_loss: 1.250, val_loss: 1.131, val_acc: 0.568\n",
            "[76,   449] train_loss: 1.247, val_loss: 1.129, val_acc: 0.569\n",
            "[77,   449] train_loss: 1.247, val_loss: 1.130, val_acc: 0.568\n",
            "[78,   449] train_loss: 1.254, val_loss: 1.130, val_acc: 0.569\n",
            "[79,   449] train_loss: 1.253, val_loss: 1.129, val_acc: 0.570\n",
            "[80,   449] train_loss: 1.251, val_loss: 1.131, val_acc: 0.571\n",
            "[81,   449] train_loss: 1.252, val_loss: 1.129, val_acc: 0.570\n",
            "[82,   449] train_loss: 1.243, val_loss: 1.130, val_acc: 0.570\n",
            "[83,   449] train_loss: 1.246, val_loss: 1.129, val_acc: 0.568\n",
            "[84,   449] train_loss: 1.251, val_loss: 1.129, val_acc: 0.571\n",
            "[85,   449] train_loss: 1.248, val_loss: 1.129, val_acc: 0.570\n",
            "[86,   449] train_loss: 1.250, val_loss: 1.128, val_acc: 0.570\n",
            "[87,   449] train_loss: 1.249, val_loss: 1.129, val_acc: 0.571\n",
            "[88,   449] train_loss: 1.246, val_loss: 1.129, val_acc: 0.570\n",
            "[89,   449] train_loss: 1.252, val_loss: 1.127, val_acc: 0.572\n",
            "[90,   449] train_loss: 1.250, val_loss: 1.128, val_acc: 0.570\n",
            "[91,   449] train_loss: 1.247, val_loss: 1.128, val_acc: 0.570\n",
            "[92,   449] train_loss: 1.247, val_loss: 1.127, val_acc: 0.571\n",
            "[93,   449] train_loss: 1.246, val_loss: 1.128, val_acc: 0.571\n",
            "[94,   449] train_loss: 1.253, val_loss: 1.127, val_acc: 0.569\n",
            "[95,   449] train_loss: 1.245, val_loss: 1.129, val_acc: 0.569\n",
            "[96,   449] train_loss: 1.248, val_loss: 1.129, val_acc: 0.570\n",
            "[97,   449] train_loss: 1.249, val_loss: 1.128, val_acc: 0.570\n",
            "[98,   449] train_loss: 1.250, val_loss: 1.127, val_acc: 0.570\n",
            "[99,   449] train_loss: 1.245, val_loss: 1.128, val_acc: 0.571\n",
            "[100,   449] train_loss: 1.251, val_loss: 1.129, val_acc: 0.570\n",
            "Finished training\n"
          ],
          "name": "stdout"
        },
        {
          "output_type": "display_data",
          "data": {
            "image/png": "[encoded data removed]",
            "text/plain": [
              "<Figure size 432x288 with 1 Axes>"
            ]
          },
          "metadata": {
            "tags": [],
            "needs_background": "light"
          }
        }
      ]
    },
    {
      "cell_type": "code",
      "metadata": {
        "colab_type": "code",
        "id": "MRLdPNFXrgFe",
        "colab": {}
      },
      "source": [
        "Path('weights').mkdir(exist_ok=True)\n",
        "PATH = 'weights/custom_net.pth'\n",
        "torch.save(net.state_dict(), PATH)"
      ],
      "execution_count": 0,
      "outputs": []
    },
    {
      "cell_type": "markdown",
      "metadata": {
        "colab_type": "text",
        "id": "ILFPw1zArgFk"
      },
      "source": [
        "### Evaluating"
      ]
    },
    {
      "cell_type": "code",
      "metadata": {
        "colab_type": "code",
        "id": "4jk1d2uUrgFl",
        "outputId": "d5aed8fc-7f74-40f1-ce97-b5b957c59695",
        "colab": {
          "base_uri": "https://localhost:8080/",
          "height": 35
        }
      },
      "source": [
        "device = torch.device(\"cuda:0\" if torch.cuda.is_available() else \"cpu\")\n",
        "device"
      ],
      "execution_count": 13,
      "outputs": [
        {
          "output_type": "execute_result",
          "data": {
            "text/plain": [
              "device(type='cuda', index=0)"
            ]
          },
          "metadata": {
            "tags": []
          },
          "execution_count": 13
        }
      ]
    },
    {
      "cell_type": "code",
      "metadata": {
        "colab_type": "code",
        "id": "XicoqsnCrgFq",
        "outputId": "92eb0f4c-f372-443b-e5cc-0bf09b599ffd",
        "colab": {
          "base_uri": "https://localhost:8080/",
          "height": 229
        }
      },
      "source": [
        "net = CustomNet()\n",
        "net.load_state_dict(torch.load(PATH))\n",
        "net.to(device)\n",
        "net.eval()"
      ],
      "execution_count": 14,
      "outputs": [
        {
          "output_type": "execute_result",
          "data": {
            "text/plain": [
              "CustomNet(\n",
              "  (conv1): Conv2d(1, 6, kernel_size=(3, 3), stride=(1, 1), bias=False)\n",
              "  (bn1): BatchNorm2d(6, eps=1e-05, momentum=0.1, affine=True, track_running_stats=True)\n",
              "  (conv2): Conv2d(6, 18, kernel_size=(3, 3), stride=(1, 1), bias=False)\n",
              "  (bn2): BatchNorm2d(18, eps=1e-05, momentum=0.1, affine=True, track_running_stats=True)\n",
              "  (pool): MaxPool2d(kernel_size=2, stride=2, padding=0, dilation=1, ceil_mode=False)\n",
              "  (conv3): Conv2d(18, 36, kernel_size=(3, 3), stride=(1, 1), bias=False)\n",
              "  (bn3): BatchNorm2d(36, eps=1e-05, momentum=0.1, affine=True, track_running_stats=True)\n",
              "  (dropout): Dropout(p=0.5, inplace=False)\n",
              "  (fc1): Linear(in_features=3600, out_features=100, bias=True)\n",
              "  (fc2): Linear(in_features=100, out_features=7, bias=True)\n",
              ")"
            ]
          },
          "metadata": {
            "tags": []
          },
          "execution_count": 14
        }
      ]
    },
    {
      "cell_type": "code",
      "metadata": {
        "colab_type": "code",
        "id": "SGN3x_PirgFv",
        "colab": {}
      },
      "source": [
        "testset = torchvision.datasets.ImageFolder(root='./data/test', transform=transform)\n",
        "testloader = torch.utils.data.DataLoader(valset, batch_size=4,\n",
        "                                          shuffle=False, num_workers=2)"
      ],
      "execution_count": 0,
      "outputs": []
    },
    {
      "cell_type": "code",
      "metadata": {
        "colab_type": "code",
        "id": "VkfP6InGrgF0",
        "outputId": "90294482-2e28-45e4-ab7e-06e8c8121349",
        "colab": {
          "base_uri": "https://localhost:8080/",
          "height": 35
        }
      },
      "source": [
        "correct = 0\n",
        "total = 0\n",
        "with torch.no_grad():\n",
        "    for data in testloader:\n",
        "        images, labels = data[0].to(device), data[1].to(device)\n",
        "        outputs = net(images)\n",
        "        _, predicted = torch.max(outputs.data, 1)\n",
        "        total += labels.size(0)\n",
        "        correct += (predicted == labels).sum().item()\n",
        "\n",
        "print('Accuracy of the network on test images: %d %%' % (\n",
        "    100 * correct / total))"
      ],
      "execution_count": 16,
      "outputs": [
        {
          "output_type": "stream",
          "text": [
            "Accuracy of the network on test images: 57 %\n"
          ],
          "name": "stdout"
        }
      ]
    },
    {
      "cell_type": "code",
      "metadata": {
        "colab_type": "code",
        "id": "eWRReA5KbykQ",
        "outputId": "28cb1f6c-2313-4552-d0f0-5a82c1219d63",
        "colab": {
          "base_uri": "https://localhost:8080/",
          "height": 141
        }
      },
      "source": [
        "class_correct = [0. for i in range(len(CLASSES))]\n",
        "class_total = [0. for i in range(len(CLASSES))]\n",
        "with torch.no_grad():\n",
        "    for data in testloader:\n",
        "        images, labels = data[0].to(device), data[1].to(device)\n",
        "        outputs = net(images)\n",
        "        _, predicted = torch.max(outputs, 1)\n",
        "        c = (predicted == labels).reshape(1, -1)\n",
        "        for i in range(c.size()[1]):\n",
        "            label = labels[i].item()\n",
        "            class_correct[label] += c[0, i].item()\n",
        "            class_total[label] += 1\n",
        "\n",
        "\n",
        "for i in range(len(CLASSES)):\n",
        "    print('Accuracy of %5s : %2d %%' % (\n",
        "        CLASSES[i], 100 * class_correct[i] / class_total[i]))"
      ],
      "execution_count": 17,
      "outputs": [
        {
          "output_type": "stream",
          "text": [
            "Accuracy of angry : 41 %\n",
            "Accuracy of disgust : 26 %\n",
            "Accuracy of  fear : 24 %\n",
            "Accuracy of happy : 83 %\n",
            "Accuracy of   sad : 47 %\n",
            "Accuracy of surprise : 74 %\n",
            "Accuracy of neutral : 57 %\n"
          ],
          "name": "stdout"
        }
      ]
    },
    {
      "cell_type": "code",
      "metadata": {
        "colab_type": "code",
        "id": "7O8QHFAKdlAT",
        "colab": {}
      },
      "source": [
        ""
      ],
      "execution_count": 0,
      "outputs": []
    }
  ]
}